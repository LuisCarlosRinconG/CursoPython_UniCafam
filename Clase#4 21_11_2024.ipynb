{
  "nbformat": 4,
  "nbformat_minor": 0,
  "metadata": {
    "colab": {
      "provenance": [],
      "include_colab_link": true
    },
    "kernelspec": {
      "name": "python3",
      "display_name": "Python 3"
    },
    "language_info": {
      "name": "python"
    }
  },
  "cells": [
    {
      "cell_type": "markdown",
      "metadata": {
        "id": "view-in-github",
        "colab_type": "text"
      },
      "source": [
        "<a href=\"https://colab.research.google.com/github/LuisCarlosRinconG/CursoPython_UniCafam/blob/main/Clase%234%2021_11_2024.ipynb\" target=\"_parent\"><img src=\"https://colab.research.google.com/assets/colab-badge.svg\" alt=\"Open In Colab\"/></a>"
      ]
    },
    {
      "cell_type": "markdown",
      "source": [
        "MANEJO DE ERRORES"
      ],
      "metadata": {
        "id": "xEY2LqVjHPKR"
      }
    },
    {
      "cell_type": "markdown",
      "source": [
        "# **MANEJO DE ERRORES**\n",
        "En Python, el manejo de errores se realiza utilizando el bloque try-except. Este bloque permite capturar y manejar excepciones (errores) que puedan ocurrir durante la ejecución de tu código. Aquí te muestro cómo funciona:\n",
        "\n",
        "\n",
        "**Tipos de Errores:**\n",
        "\n",
        "- SyntaxError: Error de sintaxis en el código.\n",
        "- TypeError: Operación o función aplicada a un tipo inapropiado.\n",
        "- ValueError: Argumento con el tipo correcto pero valor inapropiado.\n",
        "- IndexError: Índice fuera del rango de una lista o secuencia.\n",
        "- KeyError: Clave que no existe en un diccionario.\n",
        "- FileNotFoundError: Archivo no encontrado.\n",
        "- ZeroDivisionError: División por cero.\n",
        "- IOError: Problema de entrada/salida al leer o escribir archivos.\n",
        "- AttributeError: Atributo que no existe en un objeto.\n",
        "- ImportError: Módulo no encontrado al intentar importarlo.\n",
        "- MemoryError: Agotamiento de memoria.\n",
        "- OverflowError: Operación que excede el rango numérico."
      ],
      "metadata": {
        "id": "pOAZX--xIL7o"
      }
    },
    {
      "cell_type": "code",
      "source": [
        "# Generar una función que divida dos números\n",
        "\n",
        "a = int(input(\"Ingresar número: \"))\n",
        "b = int(input(\"Ingresar segundo número: \"))\n",
        "\n",
        "try:\n",
        "  def division(a,b):\n",
        "    c=a/b\n",
        "    return print(c)\n",
        "  division(a,b)\n",
        "except ZeroDivisionError:\n",
        "  print(\"No se puede dividir por cero\")"
      ],
      "metadata": {
        "colab": {
          "base_uri": "https://localhost:8080/"
        },
        "id": "8GT7o4c-IK-c",
        "outputId": "3cdb8c38-1500-441e-a210-b48b09480aa7"
      },
      "execution_count": 4,
      "outputs": [
        {
          "output_type": "stream",
          "name": "stdout",
          "text": [
            "Ingresar número: 0\n",
            "Ingresar segundo número: 0\n",
            "No se puede dividir por cero\n"
          ]
        }
      ]
    },
    {
      "cell_type": "code",
      "source": [
        "# capturar cualquier error\n",
        "\n",
        "a = int(input(\"Ingresar número: \"))\n",
        "b = int(input(\"Ingresar segundo número: \"))\n",
        "\n",
        "try:\n",
        "  def division(a,b):\n",
        "    c=a/b\n",
        "    return print(c)\n",
        "  division(a,b)\n",
        "except Exception as e:\n",
        "  print(f\"Upss, tienes un error: {e}\")"
      ],
      "metadata": {
        "colab": {
          "base_uri": "https://localhost:8080/"
        },
        "id": "wl5Q7BqnMFZ9",
        "outputId": "e3764e6f-25c1-428b-9163-58ad43b0ca64"
      },
      "execution_count": 5,
      "outputs": [
        {
          "output_type": "stream",
          "name": "stdout",
          "text": [
            "Ingresar número: 0\n",
            "Ingresar segundo número: 0\n",
            "Upss, tienes un error: division by zero\n"
          ]
        }
      ]
    },
    {
      "cell_type": "markdown",
      "source": [
        "Ciclos y bucles"
      ],
      "metadata": {
        "id": "PDmag5OtSNB_"
      }
    },
    {
      "cell_type": "code",
      "source": [
        "# imprimir todos los números en un lista\n",
        "#for es la sentencia que prmite generar un bucle sobre un conjunto de datos finitos como ua lista, Tupla\n",
        "\n",
        "numeros=[1,2,3,4,5]\n",
        "\n",
        "for i in numeros:\n",
        "  print(i)"
      ],
      "metadata": {
        "colab": {
          "base_uri": "https://localhost:8080/"
        },
        "id": "XCqTpFdvSOoU",
        "outputId": "28b853b3-087b-4cd9-83e9-bead58f108f9"
      },
      "execution_count": 6,
      "outputs": [
        {
          "output_type": "stream",
          "name": "stdout",
          "text": [
            "1\n",
            "2\n",
            "3\n",
            "4\n",
            "5\n"
          ]
        }
      ]
    },
    {
      "cell_type": "code",
      "source": [
        "# Generar un ciclo que saque exponenciación de 2 de una lista de 7 números\n",
        "\n",
        "numeros=[1,2,3,4,5,6,7]\n",
        "for num in numeros:\n",
        "  c=num**2\n",
        "  print(c)"
      ],
      "metadata": {
        "colab": {
          "base_uri": "https://localhost:8080/"
        },
        "id": "Uiz-JxeFWnVb",
        "outputId": "e846958c-7014-491f-9f54-837d42656e21"
      },
      "execution_count": 7,
      "outputs": [
        {
          "output_type": "stream",
          "name": "stdout",
          "text": [
            "1\n",
            "4\n",
            "9\n",
            "16\n",
            "25\n",
            "36\n",
            "49\n"
          ]
        }
      ]
    },
    {
      "cell_type": "code",
      "source": [
        "# De una lista de precios dada calcule un descuento del 10% para todos los precios y añadalos en una nueva lista\n",
        "\n",
        "lista_descuento=[]\n",
        "\n",
        "lista_precios_actuales=[100,500,12,4,568,254]\n",
        "\n",
        "for i in lista_precios_actuales:\n",
        "  descuento=i*0.10\n",
        "  lista_descuento.append(descuento)\n",
        "print(lista_descuento)"
      ],
      "metadata": {
        "colab": {
          "base_uri": "https://localhost:8080/"
        },
        "id": "P009n256XhtX",
        "outputId": "04a0383d-b6a1-4a4e-8535-6953b15b6167"
      },
      "execution_count": 9,
      "outputs": [
        {
          "output_type": "stream",
          "name": "stdout",
          "text": [
            "[10.0, 50.0, 1.2000000000000002, 0.4, 56.800000000000004, 25.400000000000002]\n"
          ]
        }
      ]
    },
    {
      "cell_type": "code",
      "source": [
        "#While\n",
        "contador=0\n",
        "\n",
        "while contador<5:\n",
        "  print(contador)\n",
        "  contador+=1"
      ],
      "metadata": {
        "colab": {
          "base_uri": "https://localhost:8080/"
        },
        "id": "iPRHnYu9ZcsW",
        "outputId": "5a65aa6c-5bb0-4ce9-d320-8a647975fc73"
      },
      "execution_count": 12,
      "outputs": [
        {
          "output_type": "stream",
          "name": "stdout",
          "text": [
            "0\n",
            "1\n",
            "2\n",
            "3\n",
            "4\n"
          ]
        }
      ]
    },
    {
      "cell_type": "code",
      "source": [
        "#generar un programa que permita tres intentos de contraseña\n",
        "\n",
        "\n",
        "intentos=0\n",
        "contraseña_Correcta='adelante'\n",
        "\n",
        "while intentos<3:\n",
        "  password=input('Digita tu contraseña')\n",
        "  if password==contraseña_Correcta:\n",
        "    print('Contraseña correcta, bienvenido')\n",
        "    break\n",
        "  else:\n",
        "    print('Contraseña incorrecta')\n",
        "  intentos+=1\n",
        "  if intentos==3:\n",
        "    print('intentos maximos permitidos, hasta pronto')\n"
      ],
      "metadata": {
        "colab": {
          "base_uri": "https://localhost:8080/"
        },
        "id": "ugNcVbtBa4-o",
        "outputId": "63c8e84b-f5f9-4945-997c-f385b14799cb"
      },
      "execution_count": 19,
      "outputs": [
        {
          "output_type": "stream",
          "name": "stdout",
          "text": [
            "Digita tu contraseñadsa\n",
            "Contraseña incorrecta\n",
            "Digita tu contraseñaadelante\n",
            "Contraseña correcta\n"
          ]
        }
      ]
    },
    {
      "cell_type": "markdown",
      "source": [
        "***Ejercicio***\n",
        "\n",
        "Escribe un programa que permita al usuario adivinar un número secreto entre 1 y 10. El programa debe seguir pidiendo al usuario que adivine hasta que acierte.\n",
        "\n",
        "**Instrucciones:**\n",
        "\n",
        "Define un número secreto.\n",
        "\n",
        "Utiliza un bucle while para seguir solicitando adivinanzas al usuario hasta que acierte.\n",
        "\n",
        "Si el usuario adivina el número, imprime un mensaje de felicitación y termina el programa."
      ],
      "metadata": {
        "id": "Og0q2xHFeMZ3"
      }
    },
    {
      "cell_type": "code",
      "source": [
        "num_secret=9\n",
        "\n",
        "num_user=int(input('Adivina el número secreto: '))\n",
        "if num_user==num_secret:\n",
        "  print('Acertaste, Felicidades')\n",
        "\n",
        "while num_user!=num_secret:\n",
        "  if num_user<num_secret:\n",
        "    print('El número secreto es mayor')\n",
        "  else:\n",
        "    print('El número secreto es menor')\n",
        "  num_user=int(input('Adivina el número secreto: '))\n",
        "print('Acertaste, Felicidades')\n"
      ],
      "metadata": {
        "colab": {
          "base_uri": "https://localhost:8080/"
        },
        "id": "m9jamFiPeK4H",
        "outputId": "4672f93f-0555-4886-eea6-b98a37024ce8"
      },
      "execution_count": 23,
      "outputs": [
        {
          "name": "stdout",
          "output_type": "stream",
          "text": [
            "Adivina el número secreto: 8\n",
            "El número secreto es mayor\n",
            "Adivina el número secreto: 5\n",
            "El número secreto es mayor\n",
            "Adivina el número secreto: 6\n",
            "El número secreto es mayor\n",
            "Adivina el número secreto: 10\n",
            "El número secreto es menor\n",
            "Adivina el número secreto: 9\n"
          ]
        }
      ]
    },
    {
      "cell_type": "markdown",
      "source": [
        "**Ejercicio 3: Tabla de Multiplicar (Bucle for y while)**\n",
        "\n",
        "**Descripción:**\n",
        "\n",
        "Escribe un programa que genere la tabla de multiplicar de un número ingresado por el usuario. El programa debe continuar pidiendo un número hasta que el usuario ingrese 0.\n",
        "\n",
        "**Instrucciones:**\n",
        "\n",
        "Utiliza un bucle while para pedir un número al usuario.\n",
        "\n",
        "Si el número es diferente de 0, usa un bucle for para imprimir la tabla de multiplicar de ese número.\n",
        "\n",
        "Si el usuario ingresa 0, termina el programa."
      ],
      "metadata": {
        "id": "hTAZR6tujqSV"
      }
    },
    {
      "cell_type": "code",
      "source": [
        "num_user=8\n",
        "\n",
        "while num_user!=0:\n",
        "  num_user=int(input('Ingresa un número: '))\n",
        "  for i in range(1,11):\n",
        "    multiplicacion=num_user*i\n",
        "    print(f'{num_user} x {i} = {multiplicacion}')\n",
        "print('Escribiste cero, hasta pronto')\n",
        "\n",
        "\n"
      ],
      "metadata": {
        "colab": {
          "base_uri": "https://localhost:8080/"
        },
        "id": "sdnPZ0A8jp3H",
        "outputId": "ac376f77-c60b-4aa8-c7a2-9f48902f1ecd"
      },
      "execution_count": 29,
      "outputs": [
        {
          "output_type": "stream",
          "name": "stdout",
          "text": [
            "Ingresa un número: 4\n",
            "4 x 1 = 4\n",
            "4 x 2 = 8\n",
            "4 x 3 = 12\n",
            "4 x 4 = 16\n",
            "4 x 5 = 20\n",
            "4 x 6 = 24\n",
            "4 x 7 = 28\n",
            "4 x 8 = 32\n",
            "4 x 9 = 36\n",
            "4 x 10 = 40\n",
            "Ingresa un número: 9\n",
            "9 x 1 = 9\n",
            "9 x 2 = 18\n",
            "9 x 3 = 27\n",
            "9 x 4 = 36\n",
            "9 x 5 = 45\n",
            "9 x 6 = 54\n",
            "9 x 7 = 63\n",
            "9 x 8 = 72\n",
            "9 x 9 = 81\n",
            "9 x 10 = 90\n",
            "Ingresa un número: 0\n",
            "0 x 1 = 0\n",
            "0 x 2 = 0\n",
            "0 x 3 = 0\n",
            "0 x 4 = 0\n",
            "0 x 5 = 0\n",
            "0 x 6 = 0\n",
            "0 x 7 = 0\n",
            "0 x 8 = 0\n",
            "0 x 9 = 0\n",
            "0 x 10 = 0\n",
            "Escribiste cero, hasta pronto\n"
          ]
        }
      ]
    }
  ]
}