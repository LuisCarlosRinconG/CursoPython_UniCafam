{
  "nbformat": 4,
  "nbformat_minor": 0,
  "metadata": {
    "colab": {
      "provenance": [],
      "include_colab_link": true
    },
    "kernelspec": {
      "name": "python3",
      "display_name": "Python 3"
    },
    "language_info": {
      "name": "python"
    }
  },
  "cells": [
    {
      "cell_type": "markdown",
      "metadata": {
        "id": "view-in-github",
        "colab_type": "text"
      },
      "source": [
        "<a href=\"https://colab.research.google.com/github/LuisCarlosRinconG/CursoPython_UniCafam/blob/main/Taller2_1007404854.ipynb\" target=\"_parent\"><img src=\"https://colab.research.google.com/assets/colab-badge.svg\" alt=\"Open In Colab\"/></a>"
      ]
    },
    {
      "cell_type": "markdown",
      "source": [
        "![images.png](data:image/png;base64,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)\n",
        "\n",
        "\n",
        "**TALLER 2**\n",
        "\n",
        "CURSO DE PYTHON\n",
        "\n",
        "DIRECCION DE EDUCACIÓN CONTINUA\n",
        "\n",
        "FUNDACION UNIVERSITARIA CAFAM\n",
        "\n",
        "DOCENTE: NICOLAS MOJICA GOMEZ\n",
        "\n",
        "ESTUDIANTE: **LUIS CARLOS RINCÓN GORDO**\n",
        "\n",
        "\n",
        "---\n",
        "\n"
      ],
      "metadata": {
        "id": "G2L6PBrMa3jl"
      }
    },
    {
      "cell_type": "code",
      "source": [
        "'''1. Cálculo del salario neto:\n",
        "Crea una función llamada calcular_salario_neto que reciba como parámetros el salario bruto\n",
        "de un empleado y el porcentaje de impuestos. La función debe devolver el salario neto.'''\n",
        "\n",
        "def calcular_salario_neto(salario_bruto,impuestos):\n",
        "  return print(salario_bruto-impuestos)\n",
        "\n",
        "salario_bruto=float(input(\"Digita el salario bruto\"))\n",
        "impuestos=float(input(\"Digita tus impuestos\"))\n",
        "calcular_salario_neto(salario_bruto,impuestos)\n"
      ],
      "metadata": {
        "colab": {
          "base_uri": "https://localhost:8080/"
        },
        "id": "R1muZoFwVBks",
        "outputId": "0e8075b3-8a59-4c51-bf05-70959f03131b"
      },
      "execution_count": 2,
      "outputs": [
        {
          "output_type": "stream",
          "name": "stdout",
          "text": [
            "Digita el salario bruto500000\n",
            "Digita tus impuestos212\n",
            "499788.0\n"
          ]
        }
      ]
    },
    {
      "cell_type": "code",
      "source": [
        "'''2. Calcular el precio final con descuentos:\n",
        "Diseña una función calcular_precio_final que reciba el precio de un producto y el porcentaje\n",
        "de descuento.'''\n",
        "\n",
        "def calcular_precio_final(precio,descuento):\n",
        "  des_descuento=descuento/100\n",
        "  precio_descuento = precio - (precio * des_descuento)\n",
        "  return print(f\"El precio {precio} con el {descuento}% de descuento queda en : {precio_descuento}\")\n",
        "\n",
        "precio=int(input(\"Digita el precio del articulo\"))\n",
        "descuento=int(input(\"Digita el descuento\"))\n",
        "calcular_precio_final(precio,descuento)\n"
      ],
      "metadata": {
        "colab": {
          "base_uri": "https://localhost:8080/"
        },
        "id": "192o4aNDWCpW",
        "outputId": "4ea6f493-a76f-4c4d-ebf0-c6594645f2a5"
      },
      "execution_count": 14,
      "outputs": [
        {
          "output_type": "stream",
          "name": "stdout",
          "text": [
            "Digita el precio del articulo100000\n",
            "Digita el descuento50\n",
            "El precio 100000 con el 50% de descuento queda en : 50000.0\n"
          ]
        }
      ]
    },
    {
      "cell_type": "code",
      "source": [
        "'''3. Simulación de envío de paquetes:\n",
        "Escribe una función calcular_costo_envio que reciba el peso de un paquete y la distancia de\n",
        "envío, y devuelva el costo según estas reglas:\n",
        "Menos de 5 kg: $10 por cada 100 km.\n",
        "Entre 5 y 20 kg: $15 por cada 100 km.\n",
        "Más de 20 kg: $25 por cada 100 km.'''\n",
        "\n",
        "def calcular_costo_envio(peso,distancia):\n",
        "  if peso<5:\n",
        "    rta=(distancia/100)*10\n",
        "  elif peso>=5 and peso<=20:\n",
        "    rta=(distancia/100)*15\n",
        "  elif peso>20:\n",
        "    rta=(distancia/100)*25\n",
        "  return print(f'El costo del envio por los {peso} kg y {distancia} km es de {rta}')\n",
        "\n",
        "peso=int(input(\"Digita el peso: \"))\n",
        "distancia=int(input(\"Digita la distancia: \"))\n",
        "calcular_costo_envio(peso,distancia)\n"
      ],
      "metadata": {
        "colab": {
          "base_uri": "https://localhost:8080/"
        },
        "id": "9dR0928pWC7I",
        "outputId": "06cedab5-38dc-42c6-fd21-3b21864680cc"
      },
      "execution_count": 44,
      "outputs": [
        {
          "output_type": "stream",
          "name": "stdout",
          "text": [
            "Digita el peso: 45\n",
            "Digita la distancia: 400\n",
            "El costo del envio por los 45 kg y 400 km es de 100.0\n"
          ]
        }
      ]
    },
    {
      "cell_type": "code",
      "source": [
        "'''4. Verificar si un cliente califica para un crédito:\n",
        "Crea una función calificar_credito que reciba el ingreso mensual y los gastos mensuales de\n",
        "una persona. Si el ahorro (ingreso - gastos) es mayor al 30% del ingreso, devuelve True. De lo\n",
        "contrario, devuelve False.'''\n",
        "\n",
        "def calificar_credito(ingreso_mensual, gastos_mensuales):\n",
        "  ahorro=ingreso_mensual-gastos_mensuales\n",
        "  porcentaje=ingreso_mensual*0.3\n",
        "  if ahorro >= porcentaje:\n",
        "    bol = True\n",
        "  else:\n",
        "    bol=False\n",
        "\n",
        "  return bol\n",
        "\n",
        "ingreso_mensual=int(input(\"Digita tus ingresos: \"))\n",
        "gastos_mensuales=int(input(\"Digita tus gastos: \"))\n",
        "calificar_credito(ingreso_mensual, gastos_mensuales)\n",
        "\n"
      ],
      "metadata": {
        "colab": {
          "base_uri": "https://localhost:8080/"
        },
        "id": "ocFtRNzXWDCy",
        "outputId": "5e60d45c-43a7-4ddf-d171-1d03c1c12def"
      },
      "execution_count": 20,
      "outputs": [
        {
          "name": "stdout",
          "output_type": "stream",
          "text": [
            "Digita tus ingresos: 1000000\n",
            "Digita tus gastos: 800000\n"
          ]
        },
        {
          "output_type": "execute_result",
          "data": {
            "text/plain": [
              "False"
            ]
          },
          "metadata": {},
          "execution_count": 20
        }
      ]
    },
    {
      "cell_type": "code",
      "source": [
        "'''5. Calcular el total de una factura:\n",
        "Diseña una función calcular_factura que reciba una lista de precios de productos y devuelva el total, invluyendo el impuesto del 16%'''\n",
        "\n",
        "def calcular_factura(lista):\n",
        "  rta=sum(lista)\n",
        "  return print(f'la suma de la lista es: {rta}')\n",
        "\n",
        "lista=[2,8,5,6,9]\n",
        "calcular_factura(lista)\n",
        "\n",
        "\n"
      ],
      "metadata": {
        "colab": {
          "base_uri": "https://localhost:8080/"
        },
        "id": "YigWDTTRWDK3",
        "outputId": "dbd11eef-ce5d-4436-fbe3-2963088ecf6f"
      },
      "execution_count": 23,
      "outputs": [
        {
          "output_type": "stream",
          "name": "stdout",
          "text": [
            "la suma de la lista es: 30\n"
          ]
        }
      ]
    },
    {
      "cell_type": "code",
      "source": [
        "'''6. Generar un recibo de pago:\n",
        "Escribe una función generar_recibo que reciba el nombre de un cliente, los productos\n",
        "comprados (como una lista de tuplas con nombre y precio), y devuelva un recibo en formato\n",
        "de texto con el total a pagar.'''\n",
        "\n",
        "def generar_recibo(nombre,productos_comprados,):\n",
        "  # tomamos la lista productos como si fuera una matriz de 3x3\n",
        "  total = productos_comprados[0][1] + productos_comprados[1][1] + productos_comprados[2][1]\n",
        "\n",
        "  return print(f'señor {nombre} su total a pagar es: {total}')\n",
        "\n",
        "nombre=input(\"Cual es tu nombre\")\n",
        "productos_comprados = [\n",
        "    (\"Manzanas\", 30.0),\n",
        "    (\"Pan\", 20.0),\n",
        "    (\"Leche\", 50.0)\n",
        "]\n",
        "generar_recibo(nombre,productos_comprados,)\n",
        "\n"
      ],
      "metadata": {
        "colab": {
          "base_uri": "https://localhost:8080/"
        },
        "id": "1wU8yEenWDSY",
        "outputId": "b998e63b-b962-475e-ef30-d09e314f3b1b"
      },
      "execution_count": 27,
      "outputs": [
        {
          "output_type": "stream",
          "name": "stdout",
          "text": [
            "Cual es tu nombrehjhkñj\n",
            "señor hjhkñj su total a pagar es: 100.0\n"
          ]
        }
      ]
    },
    {
      "cell_type": "code",
      "source": [
        "'''7. Cálculo de propinas en un restaurante:\n",
        "Diseña una función calcular_propina que reciba el total de la cuenta y el porcentaje de\n",
        "propina que desea dejar el cliente. Devuelve el monto de la propina y el total a pagar.'''\n",
        "\n",
        "def calcular_propina(cuenta,porcentaje):\n",
        "  total_porcentaje=porcentaje/100\n",
        "  total_cuenta=cuenta+(total_porcentaje*cuenta)\n",
        "  return print(f'El total de la cuenta fue {cuenta} y con el {porcentaje}% de propina seria un total de: {total_cuenta}')\n",
        "\n",
        "cuenta=int(input(\"Digita el valor de la cuenta: \"))\n",
        "porcentaje=int(input(\"Digita el porcentaje de propina que deceas dar: \"))\n",
        "calcular_propina(cuenta,porcentaje)\n"
      ],
      "metadata": {
        "colab": {
          "base_uri": "https://localhost:8080/"
        },
        "id": "uHGXjZYRWDZX",
        "outputId": "5bc3aa3c-e244-4872-c84b-6c30db296d44"
      },
      "execution_count": 29,
      "outputs": [
        {
          "output_type": "stream",
          "name": "stdout",
          "text": [
            "Digita el valorde la cuenta: 1000000\n",
            "Digita el porcentaje de propina que deceas dar: 25\n",
            "El total de la cuenta fue 1000000 y con el 25% de propina seria un total de: 1250000.0\n"
          ]
        }
      ]
    },
    {
      "cell_type": "code",
      "source": [
        "'''8. Calcular la disponibilidad de habitaciones en un hotel:\n",
        "Escribe una función verificar_disponibilidad que reciba el número de habitaciones\n",
        "disponibles y la cantidad de habitaciones requeridas. Devuelve un mensaje que indique si\n",
        "hay suficientes habitaciones o cuántas faltan.'''\n",
        "\n",
        "def verificar_disponibilidad(habitaciones_requeridas,cantidad_disponible):\n",
        "  if habitaciones_requeridas>cantidad_disponible:\n",
        "    print('No hay suficientes habitaciones')\n",
        "  elif habitaciones_requeridas<cantidad_disponible:\n",
        "    print('hay suficientes habitaciones')\n",
        "  elif habitaciones_requeridas==cantidad_disponible:\n",
        "    print('hay suficientes habitaciones')\n",
        "  else:\n",
        "    print('digita un valor valido')\n",
        "\n",
        "habitaciones_requeridas=int(input(\"Digita cuantas habitaciones requieres: \"))\n",
        "cantidad_disponible=int(input(\"Digita la cantidad de habitaciones disponibles: \"))\n",
        "verificar_disponibilidad(habitaciones_requeridas,cantidad_disponible)\n"
      ],
      "metadata": {
        "colab": {
          "base_uri": "https://localhost:8080/"
        },
        "id": "j3zvPQxkWDj5",
        "outputId": "4524bab9-aea9-4dcd-ab92-c6a2ab8724a5"
      },
      "execution_count": 34,
      "outputs": [
        {
          "output_type": "stream",
          "name": "stdout",
          "text": [
            "Digita cuantas habitaciones requieres: 10\n",
            "Digita la cantidad de habitaciones disponibles: 11\n",
            "hay suficientes habitaciones\n"
          ]
        }
      ]
    },
    {
      "cell_type": "code",
      "source": [
        "'''9. Sistema de evaluación de empleados:\n",
        "Crea una función evaluar_empleado que reciba el nombre del empleado, su puntuación en\n",
        "tres categorías (por ejemplo, productividad, puntualidad y trabajo en equipo) y devuelva una\n",
        "calificación final promedio con un mensaje:\n",
        "\"Sobresaliente\" si es mayor a 90.\n",
        "\"Bueno\" si está entre 70 y 89.\n",
        "\"Mejorable\" si es menor a 70'''\n",
        "\n",
        "def evaluar_empleado(nombre_empleado,puntuacion_productividad,puntuacion_puntualidad,puntuacion_trabajo_equipo):\n",
        "  promedio=(puntuacion_productividad+puntuacion_puntualidad+puntuacion_trabajo_equipo)/3\n",
        "\n",
        "  if promedio>90:\n",
        "    print(f'El empleado {nombre_empleado} tiene un promedio de: {promedio} con asignación Sobresaliente')\n",
        "  elif promedio>=70 and promedio<90:\n",
        "    print(f'El empleado {nombre_empleado} tiene un promedio de: {promedio} con asignación Bueno')\n",
        "  elif promedio<70:\n",
        "    print(f'El empleado {nombre_empleado} tiene un promedio de: {promedio} con asignación Mejorable')\n",
        "  else:\n",
        "    print('Digita un valor valido')\n",
        "\n",
        "nombre_empleado=input(\"Digita el nombre del empleado \")\n",
        "puntuacion_productividad=int(input(\"Digita la puntuación en productividad \"))\n",
        "puntuacion_puntualidad=int(input(\"Digita la puntuación en puntualidad\"))\n",
        "puntuacion_trabajo_equipo=int(input(\"Digita la puntuación en trabajo en equipo\"))\n",
        "evaluar_empleado(nombre_empleado,puntuacion_productividad,puntuacion_puntualidad,puntuacion_trabajo_equipo)\n"
      ],
      "metadata": {
        "colab": {
          "base_uri": "https://localhost:8080/"
        },
        "id": "4fkeOyenWDqx",
        "outputId": "44f636ce-4f3e-456a-be55-fd99235bbf45"
      },
      "execution_count": 42,
      "outputs": [
        {
          "output_type": "stream",
          "name": "stdout",
          "text": [
            "Digita el nombre del empleado luis\n",
            "Digita la puntuación en productividad 45\n",
            "Digita la puntuación en puntualidad45\n",
            "Digita la puntuación en trabajo en equipo45\n",
            "El empleado luis tiene un promedio de: 45.0 con asignación Mejorable\n"
          ]
        }
      ]
    }
  ]
}