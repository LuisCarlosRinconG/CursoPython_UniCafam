{
  "nbformat": 4,
  "nbformat_minor": 0,
  "metadata": {
    "colab": {
      "provenance": [],
      "include_colab_link": true
    },
    "kernelspec": {
      "name": "python3",
      "display_name": "Python 3"
    },
    "language_info": {
      "name": "python"
    }
  },
  "cells": [
    {
      "cell_type": "markdown",
      "metadata": {
        "id": "view-in-github",
        "colab_type": "text"
      },
      "source": [
        "<a href=\"https://colab.research.google.com/github/LuisCarlosRinconG/CursoPython_UniCafam/blob/main/Estadistica/Parcial_estadistica.ipynb\" target=\"_parent\"><img src=\"https://colab.research.google.com/assets/colab-badge.svg\" alt=\"Open In Colab\"/></a>"
      ]
    },
    {
      "cell_type": "markdown",
      "source": [
        "![images.png](data:image/png;base64,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)\n",
        "\n",
        "PARCIAL FINAL\n",
        "\n",
        "CURSO DE PYTHON\n",
        "\n",
        "DIRECCION DE EDUCACIÓN CONTINUA\n",
        "\n",
        "FUNDACION UNIVERSITARIA CAFAM\n",
        "\n",
        "DOCENTE: Diego Alejandro Gantiva Santamaría\n",
        "\n",
        "ESTUDIANTE: LUIS CARLOS RINCÓN GORDO"
      ],
      "metadata": {
        "id": "TPfSkZuIcYHT"
      }
    },
    {
      "cell_type": "code",
      "source": [
        "import pandas as pd\n",
        "import numpy as np\n",
        "import math\n",
        "import matplotlib.pyplot as plt"
      ],
      "metadata": {
        "id": "I8AiNstMNfNp"
      },
      "execution_count": 1,
      "outputs": []
    },
    {
      "cell_type": "code",
      "source": [
        "df=pd.read_csv('/content/sample_data/Base Ventas Celulares.csv')"
      ],
      "metadata": {
        "id": "t_7_52-COLng"
      },
      "execution_count": 3,
      "outputs": []
    },
    {
      "cell_type": "code",
      "source": [
        "print(df.head())"
      ],
      "metadata": {
        "colab": {
          "base_uri": "https://localhost:8080/"
        },
        "id": "wSjg5rJHOSGq",
        "outputId": "059fa999-3d7a-466e-f993-9dc3f2433353"
      },
      "execution_count": 4,
      "outputs": [
        {
          "output_type": "stream",
          "name": "stdout",
          "text": [
            "   Fecha Codigo         País Distribuidor Producto  Operador  Cantidad  \\\n",
            "0  40181   A640  El Salvador       Ripley  Samsung  Movistar        15   \n",
            "1  40183   A687       España    Plaza Vea       LG     Entel        29   \n",
            "2  40185  A1162     Paraguay        Metro    Nokia     Entel        21   \n",
            "3  40189   A463         Cuba      Oeschle    Apple     Entel        30   \n",
            "4  40190   A847    Guatemala        Metro       LG     Claro         7   \n",
            "\n",
            "  Forma de pago   Precio     Total  \n",
            "0      Efectivo  1750000  26250000  \n",
            "1      Efectivo  1100000  31900000  \n",
            "2      Efectivo   950000  19950000  \n",
            "3      Efectivo   710000  21300000  \n",
            "4      Efectivo  1610000  11270000  \n"
          ]
        }
      ]
    },
    {
      "cell_type": "markdown",
      "source": [
        "***primer punto***"
      ],
      "metadata": {
        "id": "_Vhc7kLpPeMO"
      }
    },
    {
      "cell_type": "code",
      "source": [
        "# Tabla de frecuencia\n",
        "tabla_cantidad = df['Cantidad'].value_counts().reset_index()\n",
        "tabla_cantidad.columns = ['Valor', 'Frecuencia']\n",
        "\n",
        "tabla_total = df['Total'].value_counts().reset_index()\n",
        "tabla_total.columns = ['Valor', 'Frecuencia']\n",
        "\n",
        "print(\"Tabla de Frecuencia para 'Cantidad':\")\n",
        "print(tabla_cantidad)\n",
        "\n",
        "print(\"\\nTabla de Frecuencia para 'Total':\")\n",
        "print(tabla_total)"
      ],
      "metadata": {
        "colab": {
          "base_uri": "https://localhost:8080/"
        },
        "id": "DBrFxh1ZWMWt",
        "outputId": "9463e741-9016-4821-eae1-2fe2edf8d1e8"
      },
      "execution_count": 20,
      "outputs": [
        {
          "output_type": "stream",
          "name": "stdout",
          "text": [
            "Tabla de Frecuencia para 'Cantidad':\n",
            "    Valor  Frecuencia\n",
            "0      24          64\n",
            "1       2          62\n",
            "2      26          57\n",
            "3      27          57\n",
            "4       7          57\n",
            "5       4          57\n",
            "6      10          56\n",
            "7      18          56\n",
            "8      16          54\n",
            "9      19          54\n",
            "10     12          53\n",
            "11      1          53\n",
            "12     13          53\n",
            "13     30          52\n",
            "14     20          52\n",
            "15      9          51\n",
            "16     29          50\n",
            "17     21          49\n",
            "18     11          49\n",
            "19     23          48\n",
            "20     15          46\n",
            "21     28          46\n",
            "22     17          45\n",
            "23      5          44\n",
            "24     25          43\n",
            "25     14          42\n",
            "26      3          41\n",
            "27      6          38\n",
            "28     22          36\n",
            "29      8          34\n",
            "\n",
            "Tabla de Frecuencia para 'Total':\n",
            "         Valor  Frecuencia\n",
            "0     17100000           7\n",
            "1      9000000           6\n",
            "2     38400000           5\n",
            "3     40040000           5\n",
            "4     19000000           5\n",
            "...        ...         ...\n",
            "1026   5850000           1\n",
            "1027   2000000           1\n",
            "1028  18360000           1\n",
            "1029  57130000           1\n",
            "1030  23270000           1\n",
            "\n",
            "[1031 rows x 2 columns]\n"
          ]
        }
      ]
    },
    {
      "cell_type": "markdown",
      "source": [
        "***Segundo punto***"
      ],
      "metadata": {
        "id": "-YEdP2xcPhg1"
      }
    },
    {
      "cell_type": "code",
      "source": [
        "#Media\n",
        "media_Cantidad = df['Cantidad'].mean()\n",
        "\n",
        "print(f'la media de Cantidad es: {media_Cantidad}')\n",
        "\n",
        "media_Total = df['Total'].mean()\n",
        "\n",
        "print(f'la media del Total es: {media_Total}')"
      ],
      "metadata": {
        "colab": {
          "base_uri": "https://localhost:8080/"
        },
        "id": "cSwLCWb0Ptu-",
        "outputId": "2a551702-7f8c-43d2-c846-02ebe28dedb0"
      },
      "execution_count": 8,
      "outputs": [
        {
          "output_type": "stream",
          "name": "stdout",
          "text": [
            "la media de Cantidad es: 15.587725150100066\n",
            "la media del Total es: 20958672.448298864\n"
          ]
        }
      ]
    },
    {
      "cell_type": "code",
      "source": [
        "#Mediana\n",
        "\n",
        "mediana_Cantidad = df['Cantidad'].median()\n",
        "\n",
        "print(f'la mediana de Cantidad es: {mediana_Cantidad}')\n",
        "\n",
        "mediana_Total = df['Total'].median()\n",
        "\n",
        "print(f'la mediana del Total es: {mediana_Total}')"
      ],
      "metadata": {
        "colab": {
          "base_uri": "https://localhost:8080/"
        },
        "id": "swOI4i9oQOHr",
        "outputId": "2754a97b-0812-4286-b093-f8088ef662ea"
      },
      "execution_count": 9,
      "outputs": [
        {
          "output_type": "stream",
          "name": "stdout",
          "text": [
            "la mediana de Cantidad es: 16.0\n",
            "la mediana del Total es: 19400000.0\n"
          ]
        }
      ]
    },
    {
      "cell_type": "code",
      "source": [
        "#Moda\n",
        "\n",
        "moda_Cantidad = df['Cantidad'].mode()\n",
        "\n",
        "print(f'la moda de Cantidad es: {moda_Cantidad}')\n",
        "\n",
        "moda_Total = df['Total'].mode()\n",
        "\n",
        "print(f'la moda del Total es: {moda_Total}')"
      ],
      "metadata": {
        "colab": {
          "base_uri": "https://localhost:8080/"
        },
        "id": "tXBZVe_CQfTG",
        "outputId": "5e37f2a5-208d-40cf-fe52-91a8394f7ff5"
      },
      "execution_count": 10,
      "outputs": [
        {
          "output_type": "stream",
          "name": "stdout",
          "text": [
            "la moda de Cantidad es: 0    24\n",
            "Name: Cantidad, dtype: int64\n",
            "la moda del Total es: 0    17100000\n",
            "Name: Total, dtype: int64\n"
          ]
        }
      ]
    },
    {
      "cell_type": "markdown",
      "source": [
        "Conclusióm:\n",
        "- En Cantidad la distribución es aproximadamente simétrica ya que la media y mediana estan con valores cercanos los unos de los otros\n",
        "- el total esta sesgado positivamente ya que hay valores grandes que superan la media hacia números más altos en comparación con la mediana"
      ],
      "metadata": {
        "id": "0Gqv192IWrgp"
      }
    },
    {
      "cell_type": "markdown",
      "source": [
        "***Tercer punto***"
      ],
      "metadata": {
        "id": "trFuFtIuPi3F"
      }
    },
    {
      "cell_type": "code",
      "source": [
        "# Calculo de rango\n",
        "\n",
        "range_Cantidad = df['Cantidad'].max() - df['Cantidad'].min()\n",
        "print(f'El rango de la cantidad es: {range_Cantidad}')\n",
        "\n",
        "range_Total = df['Total'].max() - df['Total'].min()\n",
        "print(f'El rango del total es: {range_Total}')"
      ],
      "metadata": {
        "colab": {
          "base_uri": "https://localhost:8080/"
        },
        "id": "pZ522cecPuUN",
        "outputId": "04ad8bbb-9652-4dfe-ba29-90ca115709b1"
      },
      "execution_count": 11,
      "outputs": [
        {
          "output_type": "stream",
          "name": "stdout",
          "text": [
            "El rango de la cantidad es: 29\n",
            "El rango del total es: 58690000\n"
          ]
        }
      ]
    },
    {
      "cell_type": "code",
      "source": [
        "# Calcular la varianza\n",
        "\n",
        "Cantidad_age = df['Cantidad'].var()\n",
        "print(f'la varianza de Cantidad es: {Cantidad_age}')\n",
        "\n",
        "Total_age = df['Total'].var()\n",
        "print(f'la varianza de Total es: {Total_age}')"
      ],
      "metadata": {
        "colab": {
          "base_uri": "https://localhost:8080/"
        },
        "id": "Xa7yLT9LTcio",
        "outputId": "6b0c0e82-bc98-4e1c-8cf3-1e186cac68d6"
      },
      "execution_count": 12,
      "outputs": [
        {
          "output_type": "stream",
          "name": "stdout",
          "text": [
            "la varianza de Cantidad es: 76.13966231158967\n",
            "la varianza de Total es: 181587901774480.44\n"
          ]
        }
      ]
    },
    {
      "cell_type": "code",
      "source": [
        "# Calcular la desviación estandar\n",
        "\n",
        "desv_est_Cantidad=df['Cantidad'].std()\n",
        "\n",
        "print(f'la desviación estandar de Cantidad es: {desv_est_Cantidad}')\n",
        "\n",
        "desv_est_Total=df['Total'].std()\n",
        "\n",
        "print(f'la desviación estandar de Total es: {desv_est_Total}')"
      ],
      "metadata": {
        "colab": {
          "base_uri": "https://localhost:8080/"
        },
        "id": "WB_X-jWeTeIw",
        "outputId": "da48b625-dd72-4f7a-8331-04277e884d80"
      },
      "execution_count": 13,
      "outputs": [
        {
          "output_type": "stream",
          "name": "stdout",
          "text": [
            "la desviación estandar de Cantidad es: 8.725804393383436\n",
            "la desviación estandar de Total es: 13475455.531241994\n"
          ]
        }
      ]
    },
    {
      "cell_type": "code",
      "source": [
        "# Coeficiente de variación\n",
        "\n",
        "cv_Cantidad=(desv_est_Cantidad/media_Cantidad) * 100\n",
        "\n",
        "print(f'el Coeficiente de variación de Cantidad es: {cv_Cantidad:.2f}')\n",
        "\n",
        "\n",
        "# Coeficiente de variación\n",
        "\n",
        "cv_Total=(desv_est_Total/media_Total) * 100\n",
        "\n",
        "print(f'el Coeficiente de variación de Total es: {cv_Total:.2f}')"
      ],
      "metadata": {
        "colab": {
          "base_uri": "https://localhost:8080/"
        },
        "id": "GgroQHppTiqZ",
        "outputId": "8daf3c95-9663-4bfb-8a57-bfcae55caac6"
      },
      "execution_count": 15,
      "outputs": [
        {
          "output_type": "stream",
          "name": "stdout",
          "text": [
            "el Coeficiente de variación de Cantidad es: 55.98\n",
            "el Coeficiente de variación de Total es: 64.30\n"
          ]
        }
      ]
    },
    {
      "cell_type": "code",
      "source": [
        "# Identificar las frecuencias y los datos unicos de cada elemento de la columna ó campo\n",
        "\n",
        "tabla_frec=df['Cantidad'].value_counts().sort_index()\n",
        "\n",
        "plt.figure(figsize=[10,6])#definir el tamaño del cuadro del grafico\n",
        "\n",
        "plt.bar(tabla_frec.index,tabla_frec.values,color='red',edgecolor='black')\n",
        "\n",
        "plt.xlabel('Cantidad')\n",
        "plt.ylabel('Frecuencia_absoluta')\n",
        "plt.title('Distribución de las frecuencias de Cantidades')\n",
        "\n",
        "plt.show()\n",
        "\n",
        "print(tabla_frec)"
      ],
      "metadata": {
        "colab": {
          "base_uri": "https://localhost:8080/",
          "height": 1000
        },
        "id": "KfF1gMzqTkx7",
        "outputId": "dc94d9a8-5d6e-4249-8b56-21c7cee8bfb5"
      },
      "execution_count": 16,
      "outputs": [
        {
          "output_type": "display_data",
          "data": {
            "text/plain": [
              "<Figure size 1000x600 with 1 Axes>"
            ],
            "image/png": "[encoded data removed]"
          },
          "metadata": {}
        },
        {
          "output_type": "stream",
          "name": "stdout",
          "text": [
            "Cantidad\n",
            "1     53\n",
            "2     62\n",
            "3     41\n",
            "4     57\n",
            "5     44\n",
            "6     38\n",
            "7     57\n",
            "8     34\n",
            "9     51\n",
            "10    56\n",
            "11    49\n",
            "12    53\n",
            "13    53\n",
            "14    42\n",
            "15    46\n",
            "16    54\n",
            "17    45\n",
            "18    56\n",
            "19    54\n",
            "20    52\n",
            "21    49\n",
            "22    36\n",
            "23    48\n",
            "24    64\n",
            "25    43\n",
            "26    57\n",
            "27    57\n",
            "28    46\n",
            "29    50\n",
            "30    52\n",
            "Name: count, dtype: int64\n"
          ]
        }
      ]
    },
    {
      "cell_type": "code",
      "source": [
        "# Identificar las frecuencias y los datos unicos de cada elemento de la columna ó campo\n",
        "\n",
        "tabla_frec=df['Total'].value_counts().sort_index()\n",
        "\n",
        "plt.figure(figsize=[10,6])#definir el tamaño del cuadro del grafico\n",
        "\n",
        "plt.bar(tabla_frec.index,tabla_frec.values,color='red',edgecolor='black')\n",
        "\n",
        "plt.xlabel('Total')\n",
        "plt.ylabel('Frecuencia_absoluta')\n",
        "plt.title('Distribución de las frecuencias de totales')\n",
        "\n",
        "plt.show()\n",
        "\n",
        "print(tabla_frec)"
      ],
      "metadata": {
        "colab": {
          "base_uri": "https://localhost:8080/",
          "height": 790
        },
        "id": "MIRcZb2_U2Wi",
        "outputId": "32dd03ae-7020-44c5-d9d4-93dcaefcc2d9"
      },
      "execution_count": 17,
      "outputs": [
        {
          "output_type": "display_data",
          "data": {
            "text/plain": [
              "<Figure size 1000x600 with 1 Axes>"
            ],
            "image/png": "[encoded data removed]"
          },
          "metadata": {}
        },
        {
          "output_type": "stream",
          "name": "stdout",
          "text": [
            "Total\n",
            "710000      1\n",
            "750000      1\n",
            "760000      1\n",
            "790000      2\n",
            "830000      1\n",
            "           ..\n",
            "57900000    1\n",
            "58500000    1\n",
            "58800000    1\n",
            "59100000    1\n",
            "59400000    1\n",
            "Name: count, Length: 1031, dtype: int64\n"
          ]
        }
      ]
    },
    {
      "cell_type": "markdown",
      "source": [
        "Conclusiones:\n",
        "- La dispersión en los datos es moderada. Aunque hay cierta variabilidad, la mayoría de los valores se concentran cerca de la media como lo indica la menor desviación estándar y el coeficiente de variación moderad\n",
        "- La variabilidad es muy alta, tanto en términos absolutos de desviación estándar como relativa . Esto se debe a la presencia de transacciones con valores extremadamente altos que distorsionan el promedio."
      ],
      "metadata": {
        "id": "TNEeLzdvY9W5"
      }
    }
  ]
}