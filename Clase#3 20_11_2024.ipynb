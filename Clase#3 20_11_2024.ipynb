{
  "nbformat": 4,
  "nbformat_minor": 0,
  "metadata": {
    "colab": {
      "provenance": [],
      "authorship_tag": "ABX9TyO4JZeiOY4oQexjU5XGJxPK",
      "include_colab_link": true
    },
    "kernelspec": {
      "name": "python3",
      "display_name": "Python 3"
    },
    "language_info": {
      "name": "python"
    }
  },
  "cells": [
    {
      "cell_type": "markdown",
      "metadata": {
        "id": "view-in-github",
        "colab_type": "text"
      },
      "source": [
        "<a href=\"https://colab.research.google.com/github/LuisCarlosRinconG/CursoPython_UniCafam/blob/main/Clase%233%2020_11_2024.ipynb\" target=\"_parent\"><img src=\"https://colab.research.google.com/assets/colab-badge.svg\" alt=\"Open In Colab\"/></a>"
      ]
    },
    {
      "cell_type": "markdown",
      "source": [
        "***DICCIONARIOS DE DATOS***"
      ],
      "metadata": {
        "id": "OlilSBhv8Qbl"
      }
    },
    {
      "cell_type": "code",
      "execution_count": 8,
      "metadata": {
        "colab": {
          "base_uri": "https://localhost:8080/"
        },
        "id": "MUopcUUN8HSf",
        "outputId": "ff2a5f03-a39d-46fe-afab-470d23962b8e"
      },
      "outputs": [
        {
          "output_type": "stream",
          "name": "stdout",
          "text": [
            "{'nombre': 'Luis Carlos Rincón Gordo', 'edad': 40, 'ciudad': 'Bogotá'}\n",
            "Luis Carlos Rincón Gordo\n",
            "WALTER\n",
            "{'nombre': 'WALTER', 'edad': 40, 'ciudad': 'Bogotá'}\n",
            "{'nombre': 'WALTER', 'edad': 40, 'ciudad': 'Bogotá', 'profesion': 'Ingeniero'}\n",
            "{'nombre': 'WALTER', 'edad': 40, 'profesion': 'Ingeniero'}\n"
          ]
        }
      ],
      "source": [
        "mi_diccionario={\n",
        "    \"nombre\":\"Luis Carlos Rincón Gordo\",\n",
        "    \"edad\":40,\n",
        "    \"ciudad\":\"Bogotá\"\n",
        "}\n",
        "\n",
        "print(mi_diccionario)\n",
        "\n",
        "# llamar la llave nombre\n",
        "print(mi_diccionario[\"nombre\"])\n",
        "\n",
        "#MODIFICACIÓN DE DICCIONARIOS\n",
        "mi_diccionario[\"nombre\"]=\"WALTER\"\n",
        "print(mi_diccionario[\"nombre\"])\n",
        "print(mi_diccionario)\n",
        "\n",
        "# Anadir elemento\n",
        "mi_diccionario['profesion']=\"Ingeniero\"\n",
        "print(mi_diccionario)\n",
        "\n",
        "# eliminar elemento\n",
        "\n",
        "del mi_diccionario['ciudad']\n",
        "print(mi_diccionario)\n"
      ]
    },
    {
      "cell_type": "markdown",
      "source": [
        "***Condicionales y fuciones***"
      ],
      "metadata": {
        "id": "rrZJc8MPBcC9"
      }
    },
    {
      "cell_type": "code",
      "source": [
        "# Oeradores de comparación\n",
        "\n",
        "\"\"\"\n",
        "== igual\n",
        "!= diferente\n",
        "< menor que\n",
        "> mayor que\n",
        "<= menor o igual que\n",
        ">= mayor o igual que\n",
        "\"\"\""
      ],
      "metadata": {
        "colab": {
          "base_uri": "https://localhost:8080/",
          "height": 35
        },
        "id": "du4ukA20BemG",
        "outputId": "2d1a8465-b70c-4ebb-fe92-dde56d7e46ec"
      },
      "execution_count": 10,
      "outputs": [
        {
          "output_type": "execute_result",
          "data": {
            "text/plain": [
              "'\\n== igual\\n!= diferente\\n< menor que\\n> mayor que\\n<= menor o igual que\\n>= mayor o igual que\\n'"
            ],
            "application/vnd.google.colaboratory.intrinsic+json": {
              "type": "string"
            }
          },
          "metadata": {},
          "execution_count": 10
        }
      ]
    },
    {
      "cell_type": "markdown",
      "source": [
        "Generar un programa que determine si una persona es menor o mayor de edad"
      ],
      "metadata": {
        "id": "SeH3uZvhChvp"
      }
    },
    {
      "cell_type": "code",
      "source": [
        "edad=18\n",
        "\n",
        "if edad>=18:\n",
        "  print(\"Eres mayor de edad\")\n",
        "else:\n",
        "  print(\"Eres menor de edad\")\n"
      ],
      "metadata": {
        "colab": {
          "base_uri": "https://localhost:8080/"
        },
        "id": "Ik10gYR5B-_N",
        "outputId": "b087b4b0-112c-4f00-bca1-1f903de349e2"
      },
      "execution_count": 12,
      "outputs": [
        {
          "output_type": "stream",
          "name": "stdout",
          "text": [
            "Eres mayor de edad\n"
          ]
        }
      ]
    },
    {
      "cell_type": "code",
      "source": [
        "#Condiciones anidadas\n",
        "nota=85\n",
        "\n",
        "if nota>=60:\n",
        "  if nota >=90:\n",
        "    print(\"Calificación alta\")\n",
        "  elif nota >= 80:\n",
        "    print(\"Calificación media\")\n",
        "  else:\n",
        "    print(\"Calificación baja\")\n",
        "else:\n",
        "  print(\"No aprobado\")\n"
      ],
      "metadata": {
        "colab": {
          "base_uri": "https://localhost:8080/"
        },
        "id": "9QfbdO8tDzuq",
        "outputId": "77335f3b-0eb8-466d-8e0f-6b863fb51bc5"
      },
      "execution_count": 16,
      "outputs": [
        {
          "output_type": "stream",
          "name": "stdout",
          "text": [
            "Calificación media\n"
          ]
        }
      ]
    },
    {
      "cell_type": "code",
      "source": [
        "calificacion=float(input(\"Introduzca su calificación\"))\n",
        "\n",
        "if calificacion>=60:\n",
        "  print(\"Aprobado\")\n",
        "else:\n",
        "  print(\"Reprobado\")"
      ],
      "metadata": {
        "colab": {
          "base_uri": "https://localhost:8080/"
        },
        "id": "_qQ7f1fkGSnn",
        "outputId": "b647e1fc-e3b8-485b-f7f8-923c6392f456"
      },
      "execution_count": 18,
      "outputs": [
        {
          "output_type": "stream",
          "name": "stdout",
          "text": [
            "Introduzca su calificación40\n",
            "Reprobado\n"
          ]
        }
      ]
    },
    {
      "cell_type": "code",
      "source": [],
      "metadata": {
        "id": "bTHN6A9-G2WD"
      },
      "execution_count": null,
      "outputs": []
    },
    {
      "cell_type": "markdown",
      "source": [
        "***Ejercicio***"
      ],
      "metadata": {
        "id": "2HlicdOxG6PK"
      }
    },
    {
      "cell_type": "code",
      "source": [
        "'''Escribe un programa que clasifique la edad en diferentes\n",
        "categorías: Niño (0-12 años), Adolescente (13-17 años), Adulto (18-64 años) y Anciano (65 años o más).'''\n",
        "\n",
        "edad_persona=int(input(\"Introduzca su calificación\"))\n",
        "\n",
        "if edad_persona>=0 or edad_persona<=12:\n",
        "  print(\"Niño (0-12 años)\")\n",
        "elif edad_persona>=13 or edad_persona<=17:\n",
        "  print(\"Adolescente (13-17 años)\")\n",
        "elif edad_persona>=18 or edad_persona<=64:\n",
        "  print(\"Adulto (18-64 años)\")\n",
        "elif edad_persona>64:\n",
        "  print(\"Anciano (65 años o más)\")\n",
        "else:\n",
        "  print(\"Esa edad no existe\")"
      ],
      "metadata": {
        "id": "BUasvtIJG_GU"
      },
      "execution_count": null,
      "outputs": []
    },
    {
      "cell_type": "code",
      "source": [
        "# Escribe un programa que pida al usuario una contraseña y verifique si es correcta. La contraseña correcta es \"secreta123\".\n",
        "\n",
        "contrasena=input(\"Escribe tu contraseña\")\n",
        "\n",
        "if contrasena=='secreta123':\n",
        "  print('Contraseña correcta')\n",
        "else:\n",
        "  print('Contraseña incorrecta')"
      ],
      "metadata": {
        "colab": {
          "base_uri": "https://localhost:8080/"
        },
        "id": "jA10ZDInJ8Ga",
        "outputId": "5101a6e5-070e-4653-942a-06889a4a24c2"
      },
      "execution_count": 21,
      "outputs": [
        {
          "output_type": "stream",
          "name": "stdout",
          "text": [
            "Escribe tu contraseñasecreta123s\n",
            "Contraseña incorrecta\n"
          ]
        }
      ]
    },
    {
      "cell_type": "code",
      "source": [
        "'''\n",
        "Crea un programa que lea dos números y determine cuál es mayor, cuál es menor o si ambos son iguales.\n",
        "'''\n",
        "\n",
        "num1=int(input(\"Número 1: \"))\n",
        "num2=int(input(\"Número 2: \"))\n",
        "\n",
        "if num1>num2:\n",
        "  print(num1,\" Es mayor y \",num2,\" es menor\")\n",
        "elif num1==num2:\n",
        "  print(num1,\" y \",num2,\" son iguales\")\n",
        "else:\n",
        "  print(num2,\" Es mayor y \",num1,\" es menor\")"
      ],
      "metadata": {
        "colab": {
          "base_uri": "https://localhost:8080/"
        },
        "id": "WsheewnpK1ed",
        "outputId": "aa2baff3-a140-41c8-ace1-5c3a5ab7d561"
      },
      "execution_count": 25,
      "outputs": [
        {
          "output_type": "stream",
          "name": "stdout",
          "text": [
            "Número 1: 5\n",
            "Número 2: 5\n",
            "5  y  5  son iguales\n"
          ]
        }
      ]
    },
    {
      "cell_type": "markdown",
      "source": [
        "***Funciones***"
      ],
      "metadata": {
        "id": "RJ2vBh8bNdgs"
      }
    },
    {
      "cell_type": "code",
      "source": [
        "# y=mxb\n",
        "# y=2x+4\n",
        "x=5\n",
        "def recta(x):\n",
        "  return (2*x)+4\n",
        "\n",
        "print(recta(x))"
      ],
      "metadata": {
        "colab": {
          "base_uri": "https://localhost:8080/"
        },
        "id": "J4pJDAgfMyqp",
        "outputId": "e29646d6-96a6-4737-b936-3791f78c6670"
      },
      "execution_count": 28,
      "outputs": [
        {
          "output_type": "stream",
          "name": "stdout",
          "text": [
            "14\n"
          ]
        }
      ]
    },
    {
      "cell_type": "code",
      "source": [
        "# Construir una función que genere la suma de dos numeros\n",
        "\n",
        "def suma(a,b):\n",
        "  return print(a+b)\n",
        "\n",
        "suma(5,3)"
      ],
      "metadata": {
        "colab": {
          "base_uri": "https://localhost:8080/"
        },
        "id": "H93TePE_PI3M",
        "outputId": "cd2e917c-f803-4812-d2f4-2210439ba857"
      },
      "execution_count": 32,
      "outputs": [
        {
          "output_type": "stream",
          "name": "stdout",
          "text": [
            "8\n"
          ]
        }
      ]
    },
    {
      "cell_type": "code",
      "source": [
        "# Dada dos variables entre a y b calcule la suma y la resta entre dos valores\n",
        "\n",
        "def operaciones(a,b):\n",
        "  sumas=a+b\n",
        "  restas=a-b\n",
        "  multiplicaciones=a*b\n",
        "  divisiones=a/b\n",
        "  return sumas,restas,multiplicaciones,divisiones\n",
        "\n",
        "sumas,restas,multiplicaciones,divisiones=operaciones(5,8)\n",
        "\n",
        "print(f\"suma: {sumas} Resta {restas} multiplicación {multiplicaciones} división {divisiones}\")"
      ],
      "metadata": {
        "colab": {
          "base_uri": "https://localhost:8080/"
        },
        "id": "beyApsDbQYhy",
        "outputId": "94c5c7bb-69c8-4bba-b519-4a6ab5891db1"
      },
      "execution_count": 35,
      "outputs": [
        {
          "output_type": "stream",
          "name": "stdout",
          "text": [
            "suma: 13 Resta -3 multiplicación 40 división 0.625\n"
          ]
        }
      ]
    },
    {
      "cell_type": "code",
      "source": [
        "# funsión que determine si un numero es par o impar y que envie un mensaje con el resultado de la validación\n",
        "\n",
        "def determinar(numero):\n",
        "\n",
        "  RTA=numero%2#Modulo\n",
        "  if RTA==1:\n",
        "    print(\"El número digitado es impar\")\n",
        "  else:\n",
        "    print(\"El número digitado es par\")\n",
        "\n",
        "numeros=int(input(\"Digita un número: \"))\n",
        "determinar(numeros)"
      ],
      "metadata": {
        "colab": {
          "base_uri": "https://localhost:8080/"
        },
        "id": "7Nypf1ppRv7t",
        "outputId": "e31d31c5-9971-48f0-c0c3-8b665815f251"
      },
      "execution_count": 44,
      "outputs": [
        {
          "output_type": "stream",
          "name": "stdout",
          "text": [
            "Digita un número: 73\n",
            "El número digitado es impar\n"
          ]
        }
      ]
    }
  ]
}