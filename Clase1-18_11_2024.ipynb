{
  "nbformat": 4,
  "nbformat_minor": 0,
  "metadata": {
    "colab": {
      "provenance": [],
      "authorship_tag": "ABX9TyPVeEIKt4AT7flzOMdp18yw",
      "include_colab_link": true
    },
    "kernelspec": {
      "name": "python3",
      "display_name": "Python 3"
    },
    "language_info": {
      "name": "python"
    }
  },
  "cells": [
    {
      "cell_type": "markdown",
      "metadata": {
        "id": "view-in-github",
        "colab_type": "text"
      },
      "source": [
        "<a href=\"https://colab.research.google.com/github/LuisCarlosRinconG/CursoPython_UniCafam/blob/main/Clase1-18_11_2024.ipynb\" target=\"_parent\"><img src=\"https://colab.research.google.com/assets/colab-badge.svg\" alt=\"Open In Colab\"/></a>"
      ]
    },
    {
      "cell_type": "markdown",
      "source": [
        "\n",
        "**INTRODUCCIÓN A PYTHON**\n",
        "\n",
        "CURSO PYTHON\n",
        "\n",
        "UNICAFAM\n",
        "\n",
        "ESTUDIANTE: LUIS CARLOS RINCON GORDO\n",
        "\n",
        "DOCENTE: NICOLAS MOJICA\n",
        "\n",
        "\n",
        "---"
      ],
      "metadata": {
        "id": "iRv-C3jY9JDz"
      }
    },
    {
      "cell_type": "code",
      "execution_count": 3,
      "metadata": {
        "colab": {
          "base_uri": "https://localhost:8080/"
        },
        "id": "FLT0MAKt68da",
        "outputId": "16ee8b8f-0718-4042-a54f-d47cf4734c9a"
      },
      "outputs": [
        {
          "output_type": "stream",
          "name": "stdout",
          "text": [
            "Hola mundo\n",
            "Hola mundo\n"
          ]
        }
      ],
      "source": [
        "# PARA PODE HAFCER COMENTARIOS DEBO UZAR UN NUMERAL\n",
        "print(\"Hola mundo\")\n",
        "\n",
        "# PARA INSERTAR COMENTARIOS DE MAS DE DOS LINEAS DEBO INSERTAR COMILLAS\n",
        "'''\n",
        "ESTE ES\n",
        "UN COMENTARIO\n",
        "DE VARIAS LINEAS\n",
        "'''\n",
        "print(\"Hola mundo\")\n",
        "\n"
      ]
    },
    {
      "cell_type": "markdown",
      "source": [
        "**VARIABLES**"
      ],
      "metadata": {
        "id": "D5fIgQKDFPsI"
      }
    },
    {
      "cell_type": "code",
      "source": [
        "#Una variable solo se debe nombrar sin caracteres especiales, sinespacio y preferiblemente en minusculas\n",
        "\n",
        "var = \"Hola mundo\"\n",
        "\n",
        "print(var)\n",
        "\n",
        "var = \"Adios mundo\"\n",
        "\n",
        "print(var)"
      ],
      "metadata": {
        "colab": {
          "base_uri": "https://localhost:8080/"
        },
        "id": "fH2G0casFZRR",
        "outputId": "daf81f31-0c36-4e04-d1d0-2af466e44f07"
      },
      "execution_count": 9,
      "outputs": [
        {
          "output_type": "stream",
          "name": "stdout",
          "text": [
            "Hola mundo\n",
            "Adios mundo\n"
          ]
        }
      ]
    },
    {
      "cell_type": "markdown",
      "source": [
        "**TIPOS DE DATOS**"
      ],
      "metadata": {
        "id": "UKwxBEuGG9WT"
      }
    },
    {
      "cell_type": "code",
      "source": [
        "entero = 42"
      ],
      "metadata": {
        "id": "AXnW8XPCHAxS"
      },
      "execution_count": 8,
      "outputs": []
    },
    {
      "cell_type": "code",
      "source": [
        "flotante = 3.14159"
      ],
      "metadata": {
        "id": "gMQsKgSEHdP_"
      },
      "execution_count": 11,
      "outputs": []
    },
    {
      "cell_type": "code",
      "source": [
        "#Conversión de tipos de datos\n",
        "entero=int(3.14) #RTA = 3\n",
        "print(entero)\n",
        "flotante=float(5) # RTA = 5.0\n",
        "print(flotante)"
      ],
      "metadata": {
        "id": "565wdrUmHiXV"
      },
      "execution_count": null,
      "outputs": []
    }
  ]
}