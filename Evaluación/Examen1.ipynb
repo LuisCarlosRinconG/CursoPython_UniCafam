{
  "cells": [
    {
      "cell_type": "markdown",
      "metadata": {
        "id": "view-in-github",
        "colab_type": "text"
      },
      "source": [
        "<a href=\"https://colab.research.google.com/github/LuisCarlosRinconG/CursoPython_UniCafam/blob/main/Examen1.ipynb\" target=\"_parent\"><img src=\"https://colab.research.google.com/assets/colab-badge.svg\" alt=\"Open In Colab\"/></a>"
      ]
    },
    {
      "cell_type": "markdown",
      "source": [
        "![images.png](data:image/png;base64,iVBORw0KGgoAAAANSUhEUgAAAaIAAAB5CAMAAABMW9UFAAAAwFBMVEX///8AAAAAZqgthL2Rvdo8PDzCwsIAYaZwmMLn5+cAXaS2trazs7P09PTx8fGLutgjgLukpKSUlJREf7VXl8e1yt/Y5/F7q9KGhoZOTk6vy+KArtKnwNnQ0NCqqqouLi4cHBzMzMzd3d2cnJxERERxcXEVFRVoaGgyMjIjIyNgYGB7e3uJiYlVVVVbW1tJSUkLbKzm7vXF2+sAWKIceLRTirvC0+Rrl8KoxuCGp8q00uVmo8ydxN45i8CXtdMudrBKaRQYAAARz0lEQVR4nO2d+WObNhvHcTeTEo7ErIfd1thgYxvwkaTpta3b//9fvTqQkEAISSF2upfvD2uG0flBjx4JSVjWoKcpcPxLZ2FQq5LVbATkXTofg1rk7kZY7qVz8qtrshiNjnHv0Qan0eiMiB7ef9TT+/fvXwN9sqyv315rCoQFyX0/Q7GQ1rgaJz1Hm4xGZ0X04fFWWY93r65KXX+zrE+fr5R191il8/4MxYLak3pMeo02YAidpS/6cPubkm7v7l4xunoNEF2/UtLdI5fG2RBtSD1GvUZ7pHzWK9fpNWqxlBA93tWrXRnR3WMDdhuieIUV8k99EJaXA82i0arcG9VMi+Yk1o3dZ7QSKSBq8FFG1OQjQxSKrYdDLus+sWsSsNe6TEms/bshLepCdCsCpIZICOiMiOIy3M6oYtpEcnPsNVaZ5IhaAKkgumuL+GyILBf1RjNdAykVzU2/HZxMMkStgLoRtbSg8yKyfHs16dke2SQ3837jlUiC6FHSRjoQtQM6K6JnkPuCEMkAdSC6kwD61RFNXg6idhvXiUjWhAZE+hIjkvRCXYha3YQBkaGEiORGToqoown1j8gPAiOXDYRrfdkjibMTUSCJt/MmYboiRN2EWhF1E+oLke/Eq2I7O+2yLDsd0zBuFC5IHKikOUXnx9N8nWXrQzqpcfcTD0QKfluc8iKq/QgjpJl0UdxsRTv2Pj2eFijeVSJGkHj7ND+dQJ7Hp23hMQk4UZGDwIt1Xth8UQSIuoycBJECoV4QBW5K3thQbdLag120Nb+IDbutCPpxMebjPHAz2at6kkxWk/2M/2W8qkMK3O2iHj7HYwLf40MXbJabiFQItSBSmpJ9OiJn26wrpJR7/KbkMv9QJutaqHIQGoQN6kAnpg1Omj+XCGs1jJVxfINiI7gHPCIB84awElMHdUSdjoIEkdqk+dMRecKyQq3Zp0+MyG4EKpNLGj9gVTN8rYj8pThoyKQbt+V5Ny9El1etiNQICREpAeoDkSsqEtaawSFE1CQ0Ij+dmj8hUfvZ3orC5i+1eq5myFVFH40aIkVCIkSKL576RXRI96uwqF7hjAo5IrapbHYZF6JsnOttAZRXDWNMbmjvi8o87nIYlO0mKzPJIDqlU5DpQz2ufLras2FJtnlEqoQEiFQJ9YloRUrB9E6VzyBCVPVDRRL4gRPnTABwNbXJuqug6iBInxI4jEdnI3eRuAT5aHSMyP/585zclTYRUVfAoe81oEJ82Y/oFfKai0Ok4G23IVLx5XpHxLhwtLhVMxIgqkwVnV1lXiatVlyv5RMf4MBcbBkXxQXv2pO0NzTTFBGTYGUfF1V0lSkuL7CI1Ak1EKkTeiZE9K4F9XWbiPysQUgmWquM+6w6u0CaIAVCI2P9PNr9sUtgqNkuM8kgulUnVEcknzg9B6KqGdHbmoioEVF8VX5qpqOKKKynJEREM8S+fbJrFxlEyh1RE5EGoedCROuOWpwmolkjKrkIdqYCVRGRPObkghARvcgioi5N2bQqRDqEaoiUXYVnRESfPWpaGojo8qqtvHqpSAyM76yKiFT+rH6BQ+SLEAVLPlmKSKMjqiPSMXOXROSKE2gXiYEZgqoiIk1BjoiuhBAiqrciLUI8Ii1CF0Q0bcQkreQ4Jh23LiJnbpMxVI+I9BoRh0jDm7ssIjJ4WnS9vZh76Zid09FAlNjTU8YE7Q+RjjdXQ6Rn5i6IyCeO8MySKHCPjRk3VURxmtWD9odIy1fgEWn5ChdFRKaaJd5CNS+gjcjZi6aye0Ok24gYRLqN6HKIqEOXWi1K+JnUNWl2CogCbjZntCD+fW+IdBsRg0i3Eb0ARMxUKye6lQJUcegGOh4dO4FeREn/Hp12I6oQaTeil4uosnHllKY6omrusyiv941IuxFViLQb0QtAJDZ0NPlpY5avC1FMLlaLk3tGpN+IKCL9RvQCEAndBZoMM6OpimjXjLhnRPqNiCLSHBNdFJFPFnewLxeoSHfPNjFFRCQ/SyZoz4j0CVFE+oQuOHQl7/OEQ1dyM/veRxERmYQQzYX2g0hzYoFFZGDnLoio+b6iUlz+NGYvqiEKFrV0oPpFZGDnCCIDO6eAiN/iTefmn4yo5RlAIj4Z10+pIaIZFOW6H0QGhAgiA0LtiGjN8xvgaKUEjRs1EcXkgsClW4l+UkNEKp9rgL0iMvDnCCITOyfZjkzyyz2OdLgypr7wk98XjZqd0YtGZGLnSkQmdq4dEZ1D45YIVitn6CVTRHSqW/BinFR9zl7UQ/R8hu4JiPTHrTJEzIkGTF9Ml0pVK0KMEVXTNI2l+CRObu+yGiKHPFqsF9InIhN/rkR0ZUJIgiimNUg79IQSWjerUxuRRVfVV353aT6dRnBL2ekmsbJt84UgMvIWZKeXMIvXx5N5kHjM+nqmZOaIqmZEDrbwyAos8iwsmBVZiojo9Cuz9KtPREZ2DiMy8hZkiOij3BTrDJsjshjmiyLcw90KUS3SXRUrWQ/fgajKdlXTcY+IjAhhREbegvQMoNY9D2N2s84TEDmNHT7UEaua8GFlO35ih/RK1xwds6o0dBPfiSf0UegD0dVLQsTM6vPVyHnJT0Ak2qKS1Gqmqc6XEcJ3tb0hUjwO60yIRJtLgCfMj2OegohxQIimpGradq8ovNITbhGCOv33EFlBYwteVj/L5UmI6q+w2ROxVsKNdOtIYU23PRYFXUyby+67EZFcPB3Rd6NhUfd5dEnBPuizqLGx110ukJYcog2+uKFuVZjhK1l9LmG+rWzajjtDLfAO/Bqe3XHCD6GiMu2sMbKKt3z7zGb7OZP1eZm/JXeu16i8yM4aBuPyIlnT/fIQwfJ4022e52loC1cl+qXkF33hbUhwt3m+LfZ2czd5MLdXRZHnRRF6c8G+7/ZILT+JJzBoWkyjOKk/GGqZFmRc9WhGASLVAyENEA1iNCB68dI5g5bR9Wu9k29ZDYj09PbfP4z0w7L+fGOmfy5d5kGDBv2f6d1bMz1Y1v07M91fusy/mD59vjbR52+W9XBjpj8vXeZfTE9wut/d/G6iAZGmnoDooU9EwWk8iBNdB/X1/IgehM+KPYgXnWt8+PxCEA1q0705oj8NEb27dJl/NZkj+mCIaHC6NWW+vGRAdCZ9MVq8gBB9NEL0+6VL/Mvphzmiv4wI/X3pEv9yemvkdSNEb0wIDSNXbZm5dAjRTyNEg0OnLRNC5VtXE3/hyd6CvVy2nIRVrXMQnHAvla/+PQr5nTrftfDWqp+Q+2bSGSFEj0b+gkYhhHLbvtQ6HS3LJR1HzW+AzNU/6rUdZZJPQqTcIZ1ywbViiqeuGc3SYUQG/oKkK4pOB6i1aLMwI7sN0ZgsLI1bzj71t7MjjDxZn/gYJrV9RRLhFXRJJD67YdSSsjPNRlnKNW3wWCxUnyOjzggbOoPOSNIVkZXRHRlvRTTPy2MQxy1PJzy9FkY+r1aglipy1dqKjyu03W8s/HV+DEWXy2WYXKITne/2/mGMyKAzumnPB0CUep7XXNrYKK/8k9TBpMXE+wt8KHPSQKQpn9vu1Cm4jjy3bf6c6InO169NLF2JSN/SfWjPR0jqPvY8aI88D5Yh8SaTCf1Mje255W02uEweQ/C3C3/zEF03isrCxxFzUwMR+hXd6Xje3Ik8RDbxYGK+V/5k+Ta4Ddg2F+TCR4kAMweMlGvDs+tADPh5cOCfQYweML+6jHSsdoEmME2IygVdEfw4DhMFKiksQjxBKTK6N0b0m7alk7ncFNEWr5gejbLqfFdkQMi+iQldwQ0tv4PW+I7h9gSHbuxJmFXUBBKHiF1j7YHqginBm6Yw8XLV+JwkaZcnnzgW+NfHFnlMFo0vHbIHFG6AcejOZnqq/YguKy+XFB/JYm63jALuzSFbZVZ4yTLfORrMAZWItC2dxM5ViFKCaAetfha50RLVJKiunTvfw9v8Ueq6cAk8KBuotUOUTiBZB9bHMvI28E+Acey6q6qyOEQA5Qk1SfArRATPNolRLa7hb7ntZrBmQfDcXUEEW3u/Qz6Jb4MMZkUIbgtdt0A1Dup370bWAcaWgD/dfbVtNqrqu1hMXPcACzAFIQ7F3INRpHCHmw/SD10PQjy43rJmzQ0mGAgizQkG6dRCCyK4QyeGhQg2yKtm+iIPkovIFj6ECIe14cZTG2/RD6lHXUe0J4kiRBFqqg787wztOZnDP1e4yxiNNjiOMWoRbF+0hVdmuAkeqrYzpZsninrXB8wk3xflsGBrFNaBtgOlzfd2ZoedoQXDes3oRuYKlB5dLkDkQAwuPrmaQeTCYm5JXUBE/g5vVs1GS4IoojVURzTFUawwIuymgZpLghLqGORlhe3kiGzZR4g4d6GAVTvDAyIGUUj975Q/pQBmbsR7dCk0zBgRyCNsfQ2fUd9hIIg0HQaJs0ARpQJECURU4L1DJaL5dIF7kox8OwMiSkqjAmqSQbRXQQQ/P+CASJCdg+cy2gA3QQQQLOwmIjdFe4GCGiIbf/GrRLRlEPlR2WtRROWWaxaRL0Dkm7ei37QakXTyh1qkFkR5WX6ECJR0HO0hohEZ75eIkPO0NkA0gY9AaSFneAfSmiBCpxPDPUUsIrjh7+DmdUQOuGfmpRRRUW33h25IYS8rRHPAcuseuxFZ/+g2I4pIqxl9lxGS9UUEUUIQ5ciS2yWigEWUmiICaaVzmDQImB33bgxTWxF75K6RZ8EgAtEtEtTp8IgylM8VRbSi+93n+HyjytCBiDIHQexE5JscAl1uXumrEXUiKnAHixDhywgRnfeBiJxyd+lOiAhXXhsiYOnGe9gTJIxlWlVdxhYmzCCKcd9YRzTHoStEc+pTFviPClGEi6SCSLs3qhCpN6OuN0UsoliAyMYVCf6JAlz7CNGUfP8CeXQn5HEhUg1EsCJdkpAAEai1Jbw3WHIfZyOI0F0MIhvHVkcU4xAVIlj5U1Iwi0NU3qSEyPpDb2zEtCLlsZHUnWMRYcsQ1BHB6nHLmW7sYaFKmqMxZpJgRNh/K2D5m4hAxEvPwSMlAaKgHK7CnGwBCGfiE0Qrxw/GZZtFiJYJTDgVIEpwlhlEcJxdJEno73FkFSIXZ0IN0YNeM2J36SmOjTrXz1FEqKpQ/8wjgjDWORrVgXuzMDwgZniEvsWIYGUtl8jmNxHREfzEEiFCfhv8F32ibbGBvDAi8jlDMi6CLxIOEMgs3O/qTjfo/E/hfsxMepcn0KzgXvA0LBiPDtx1DPcLBlGGRg3CidofWoxYRLfvlRB1rllYbTblGDOZQad1OfOAzVnCDtbZbGBtJ2ir9yIHHUqENtEvttC2wymTzdRKN9AZ8AtwTwah2JsNrHhvs6mGJSGcXVlD9zkebfYI0WYC/4MsUbTZlEMoWGvAZ0isyQY+Bc4WhFsWoO5OS+ic+CAjueWjuzbjqW8dlwgReH5AFkI0HNgV1VsVD+Z254J4YAGyNXhEcMR+kaEo9r51WMKZJH+8XENE2bL5ZQv/Xx1Tx+91VTF13W9bfeYb6E4yx1uuffy9dPLZ9CChL1SdJKFvEBJ4MwnvJ+VG74APW/44L0Oxv9LoqxwkZSxVpAGbST8hdznMZfJrwuSNROeQePiImlE0M030YIxIZRpoWCbch3QGR3wr6vbqbqTzCoNUpTHjXdvUf9u5iuHSZfuPSKM7apy70NEdDYuEe9K7O1VGDUTSl3vD2rn+pOwyNBDJXIbBVehTX00RSRgNhPrVV7V2JDgDqI3RQKhvqTESHdMkZjQQ6l9fXylAEp6kJWI0EHoOvVPwvcWHnd3+bPjegy/3LLr/0jnP0HYeHc/o5u9hPPRc6pz2bj8ykJkLuvmgvE1gkLa+dgxi2xHdviENaeiGnlf336QbJiQHb97+/DgYufPo7Z3E2snPRoUNaWhCZ5D/47rV2skR3d7+PfRC5xGwdi2QZIhuH98Mrvb59O61uCVJ3IXHvwYbd17d/3gloNSCCB7xPLSgC+jtl891SsI5OmDhhpHQpeR/+nZ9fXXVjugW8vk+uNmX1cM/X64+E1DMgmFI5/HNzcPQfl6E7r9++vHl37vrz5+/WNb3u8fHnz//+vj969D9DBo0aNAgM/0PZF0zEX9yT7EAAAAASUVORK5CYII=)\n",
        "\n",
        "\n",
        "**PRUEBA DE ENTREVISTA**\n",
        "\n",
        "CURSO DE PYTHON\n",
        "\n",
        "DIRECCION DE EDUCACIÓN CONTINUA\n",
        "\n",
        "FUNDACION UNIVERSITARIA CAFAM\n",
        "\n",
        "DOCENTE: NICOLAS MOJICA GOMEZ\n",
        "\n",
        "ESTUDIANTE: **LUIS CARLOS RINCÓN GORDO y Duvan Alirio Melo Majecha**\n",
        "\n",
        "---"
      ],
      "metadata": {
        "id": "Sb5I55A6yJOL"
      },
      "id": "Sb5I55A6yJOL"
    },
    {
      "cell_type": "markdown",
      "id": "a038a053",
      "metadata": {
        "id": "a038a053"
      },
      "source": [
        "Este examen evalúa conceptos fundamentales de Python. Tienes 2 horas y 30 minutos para completarlo. Por favor, responde cada pregunta en las celdas indicadas.\n",
        "\n",
        "**Instrucciones:**\n",
        "1. Lee cada pregunta cuidadosamente.\n",
        "2. Responde en la celda proporcionada debajo de cada pregunta.\n",
        "3. Guarda tu progreso frecuentemente.\n",
        "\n",
        "¡Buena suerte!\n"
      ]
    },
    {
      "cell_type": "markdown",
      "id": "d6b0e321",
      "metadata": {
        "id": "d6b0e321"
      },
      "source": [
        "## Sección 1: Teoría\n",
        "\n",
        "Responde las siguientes preguntas teóricas:"
      ]
    },
    {
      "cell_type": "markdown",
      "id": "2589c157",
      "metadata": {
        "id": "2589c157"
      },
      "source": [
        "### 1. Variables y Tipos de Datos\n",
        "\n",
        "a. ¿Cuál es la diferencia entre una lista y una tupla en Python? Proporciona ejemplos.\n",
        "\n",
        "***RTA: la tupla no se puede modificar y la lista si.***\n",
        "\n",
        "b. ¿Qué significa que una variable sea mutable? Proporciona un ejemplo de una variable mutable.\n",
        "\n",
        "***RTA: La variable mutable se puede modificar dentro del parte del codigo:***\n",
        "\n",
        "Ejemplo:\n",
        "\n",
        "numero=9\n",
        "\n",
        "numero=12\n",
        "\n",
        "print(numero) # imprime 12 poorque el la variable numero se modifico\n"
      ]
    },
    {
      "cell_type": "markdown",
      "id": "4f4abfcb",
      "metadata": {
        "id": "4f4abfcb"
      },
      "source": [
        "### 2. Operadores\n",
        "\n",
        "a. Explica la diferencia entre `==` e `is` en Python.\n",
        "\n",
        "RTA:\n",
        "**==** representa igualdad(verifica si los valores de dos objetos son iguales)\n",
        "\n",
        "**is** Es una forma de comparar si dos objetos son exactamente lo mismo dentro de la variable\n",
        "\n",
        "b. Menciona y explica brevemente los operadores lógicos en Python.\n",
        "\n",
        "RTA= Son una forma de validar o evaluar las distintas expresiones:\n",
        "\n",
        "Ejemplo:\n",
        "- and = y  se utiliza como una validación a dos condiciones en donde ambas deben ser verdades\n",
        "- or = o se utiliza como una validación a dos condiciones en donde una puedo ser falsa y la otra verdadera\n",
        "-not = no Se utiliza para cambiar el valor de la expresión, si es verdadero seria falso y viceversa"
      ]
    },
    {
      "cell_type": "markdown",
      "id": "ab8d6323",
      "metadata": {
        "id": "ab8d6323"
      },
      "source": [
        "### 3. Estructuras de Control\n",
        "\n",
        "a. ¿Cuál es la función de `elif` en Python? Proporciona un ejemplo.\n",
        "\n",
        "RTA: Agregar otra validación a la condición\n",
        "\n",
        "a=5\n",
        "b=10\n",
        "\n",
        "if a<b:\n",
        "  print(f\"{a} es menor\")\n",
        "elif b==a:\n",
        "  print(f\"{a} es igual a {b}\")\n",
        "else:\n",
        "  print(f\"{b} es menor\")\n",
        "\n",
        "b. ¿Cuál es la diferencia entre un bucle `for` y un bucle `while`?\n",
        "\n",
        "RTA = Que es for itera un número determinado de veces y el while mientras se cumpla una condición"
      ]
    },
    {
      "cell_type": "markdown",
      "id": "49e5f7d3",
      "metadata": {
        "id": "49e5f7d3"
      },
      "source": [
        "## Sección 2: Práctica\n",
        "\n",
        "Completa los siguientes ejercicios de programación."
      ]
    },
    {
      "cell_type": "markdown",
      "id": "778c4807",
      "metadata": {
        "id": "778c4807"
      },
      "source": [
        "### 1. Variables y Operadores\n",
        "\n",
        "Escribe un programa que solicite dos números al usuario y realice las operaciones de suma, resta, multiplicación, división y módulo.\n",
        "\n",
        "**Espacio para tu código:**"
      ]
    },
    {
      "cell_type": "code",
      "execution_count": 20,
      "id": "e7a63e93",
      "metadata": {
        "id": "e7a63e93",
        "colab": {
          "base_uri": "https://localhost:8080/"
        },
        "outputId": "837a14b8-da62-40e5-b0d3-96e0b895084b"
      },
      "outputs": [
        {
          "output_type": "stream",
          "name": "stdout",
          "text": [
            "Digita un número: 8\n",
            "Digita otro número: 2\n",
            "La suma de 8 y 2 es:  10\n",
            "La resta de 8 y 2 es:  6\n",
            "La multiplicación de 8 y 2 es:  16\n",
            "La división de 8 y 2 es:  4.0\n",
            "El modulo de 8 y 2 es:  0\n"
          ]
        }
      ],
      "source": [
        "a=int(input('Digita un número: '))\n",
        "b=int(input('Digita otro número: '))\n",
        "print(f'La suma de {a} y {b} es: ',a+b)\n",
        "print(f'La resta de {a} y {b} es: ',a-b)\n",
        "print(f'La multiplicación de {a} y {b} es: ',a*b)\n",
        "print(f'La división de {a} y {b} es: ',a/b)\n",
        "print(f'El modulo de {a} y {b} es: ', a%b)"
      ]
    },
    {
      "cell_type": "markdown",
      "id": "56fe1d81",
      "metadata": {
        "id": "56fe1d81"
      },
      "source": [
        "### 2. Estructuras de Datos\n",
        "\n",
        "Escribe un programa que solicite al usuario 5 palabras, las almacene en una lista, ordene la lista alfabéticamente, la convierta en una tupla e imprima la longitud de la tupla.\n",
        "\n",
        "**Espacio para tu código:**"
      ]
    },
    {
      "cell_type": "code",
      "execution_count": 21,
      "id": "8772080c",
      "metadata": {
        "id": "8772080c",
        "colab": {
          "base_uri": "https://localhost:8080/"
        },
        "outputId": "a84606c9-68ff-4626-c72c-7383dbdb5f56"
      },
      "outputs": [
        {
          "output_type": "stream",
          "name": "stdout",
          "text": [
            "Ingrese una palabra: hola\n",
            "Ingrese una palabra: adios\n",
            "Ingrese una palabra: oks\n",
            "Ingrese una palabra: mega\n",
            "Ingrese una palabra: guion\n",
            "['adios', 'guion', 'hola', 'mega', 'oks']\n",
            "La longitud de la tupla es: 5\n"
          ]
        }
      ],
      "source": [
        "palabras = []\n",
        "for i in range(5):\n",
        "    palabra = input(\"Ingrese una palabra: \")\n",
        "\n",
        "    palabras.append(palabra)\n",
        "palabras.sort()\n",
        "tupla = tuple(palabras)\n",
        "print(palabras)\n",
        "print(\"La longitud de la tupla es:\", len(tupla))\n",
        ""
      ]
    },
    {
      "cell_type": "markdown",
      "id": "82b32407",
      "metadata": {
        "id": "82b32407"
      },
      "source": [
        "### 3. Condicionales\n",
        "\n",
        "Escribe un programa que solicite al usuario su edad y determine si es menor de edad, mayor de edad o adulto mayor.\n",
        "\n",
        "**Espacio para tu código:**"
      ]
    },
    {
      "cell_type": "code",
      "execution_count": 22,
      "id": "a161d90c",
      "metadata": {
        "id": "a161d90c",
        "colab": {
          "base_uri": "https://localhost:8080/"
        },
        "outputId": "69e20376-ee6a-43db-c9e7-480853d91125"
      },
      "outputs": [
        {
          "output_type": "stream",
          "name": "stdout",
          "text": [
            "ingrese su edad:18\n",
            "menor de edad\n"
          ]
        }
      ],
      "source": [
        "edad=int(input(\"ingrese su edad:\"))\n",
        "if edad <= 18:\n",
        "  print(\"menor de edad\")\n",
        "elif 18 < edad <= 60:\n",
        "    print(\"mayor de edad \")\n",
        "else:\n",
        "    print(\"adulto mayor\")"
      ]
    },
    {
      "cell_type": "markdown",
      "id": "22a06bd2",
      "metadata": {
        "id": "22a06bd2"
      },
      "source": [
        "### 4. Funciones\n",
        "\n",
        "Define una función que reciba una lista de números y calcule el promedio. Solicita al usuario 5 números, almacénalos en una lista, calcula el promedio usando la función e imprime el resultado.\n",
        "\n",
        "**Espacio para tu código:**"
      ]
    },
    {
      "cell_type": "code",
      "execution_count": 19,
      "id": "6ac8651e",
      "metadata": {
        "id": "6ac8651e",
        "colab": {
          "base_uri": "https://localhost:8080/"
        },
        "outputId": "2a636005-b90b-43cb-a9a2-0bcf14a5e905"
      },
      "outputs": [
        {
          "output_type": "stream",
          "name": "stdout",
          "text": [
            "Digita un número para la lista: 25\n",
            "Digita un número para la lista: 56\n",
            "Digita un número para la lista: 48\n",
            "Digita un número para la lista: 91\n",
            "Digita un número para la lista: 45\n",
            "La lista del usuario es: \n",
            "[25, 56, 48, 91, 45]\n",
            "El promedio de los números es: 53.0\n"
          ]
        }
      ],
      "source": [
        "def promedio_numeros(lista,promedio):\n",
        "  for i in range(1,6):\n",
        "    numero=int(input('Digita un número para la lista: '))\n",
        "    lista.append(numero)\n",
        "    promedio+=numero\n",
        "    promedio_nums=promedio/5\n",
        "  print('La lista del usuario es: ')\n",
        "  print(lista)\n",
        "  return print(f'El promedio de los números es: {promedio_nums}')\n",
        "\n",
        "lista=[]\n",
        "promedio=0\n",
        "promedio_numeros(lista,promedio)\n"
      ]
    },
    {
      "cell_type": "markdown",
      "id": "65bbe5fa",
      "metadata": {
        "id": "65bbe5fa"
      },
      "source": [
        "### 5. Ciclos y Bucles\n",
        "\n",
        "Escribe un programa que imprima los números del 1 al 100, pero:\n",
        "- Si un número es múltiplo de 3, imprime 'Fizz'.\n",
        "- Si un número es múltiplo de 5, imprime 'Buzz'.\n",
        "- Si es múltiplo de ambos, imprime 'FizzBuzz'.\n",
        "\n",
        "**Espacio para tu código:**"
      ]
    },
    {
      "cell_type": "code",
      "execution_count": 23,
      "id": "6f29390e",
      "metadata": {
        "id": "6f29390e",
        "colab": {
          "base_uri": "https://localhost:8080/"
        },
        "outputId": "ac05aedc-4d27-4ae6-f57a-cf9d81bd30a8"
      },
      "outputs": [
        {
          "output_type": "stream",
          "name": "stdout",
          "text": [
            "1 no es multiplo de ninguno\n",
            "2 no es multiplo de ninguno\n",
            "Fizz\n",
            "4 no es multiplo de ninguno\n",
            "Buzz\n",
            "Fizz\n",
            "7 no es multiplo de ninguno\n",
            "8 no es multiplo de ninguno\n",
            "Fizz\n",
            "Buzz\n",
            "11 no es multiplo de ninguno\n",
            "Fizz\n",
            "13 no es multiplo de ninguno\n",
            "14 no es multiplo de ninguno\n",
            "FizzBuzz\n",
            "16 no es multiplo de ninguno\n",
            "17 no es multiplo de ninguno\n",
            "Fizz\n",
            "19 no es multiplo de ninguno\n",
            "Buzz\n",
            "Fizz\n",
            "22 no es multiplo de ninguno\n",
            "23 no es multiplo de ninguno\n",
            "Fizz\n",
            "Buzz\n",
            "26 no es multiplo de ninguno\n",
            "Fizz\n",
            "28 no es multiplo de ninguno\n",
            "29 no es multiplo de ninguno\n",
            "FizzBuzz\n",
            "31 no es multiplo de ninguno\n",
            "32 no es multiplo de ninguno\n",
            "Fizz\n",
            "34 no es multiplo de ninguno\n",
            "Buzz\n",
            "Fizz\n",
            "37 no es multiplo de ninguno\n",
            "38 no es multiplo de ninguno\n",
            "Fizz\n",
            "Buzz\n",
            "41 no es multiplo de ninguno\n",
            "Fizz\n",
            "43 no es multiplo de ninguno\n",
            "44 no es multiplo de ninguno\n",
            "FizzBuzz\n",
            "46 no es multiplo de ninguno\n",
            "47 no es multiplo de ninguno\n",
            "Fizz\n",
            "49 no es multiplo de ninguno\n",
            "Buzz\n",
            "Fizz\n",
            "52 no es multiplo de ninguno\n",
            "53 no es multiplo de ninguno\n",
            "Fizz\n",
            "Buzz\n",
            "56 no es multiplo de ninguno\n",
            "Fizz\n",
            "58 no es multiplo de ninguno\n",
            "59 no es multiplo de ninguno\n",
            "FizzBuzz\n",
            "61 no es multiplo de ninguno\n",
            "62 no es multiplo de ninguno\n",
            "Fizz\n",
            "64 no es multiplo de ninguno\n",
            "Buzz\n",
            "Fizz\n",
            "67 no es multiplo de ninguno\n",
            "68 no es multiplo de ninguno\n",
            "Fizz\n",
            "Buzz\n",
            "71 no es multiplo de ninguno\n",
            "Fizz\n",
            "73 no es multiplo de ninguno\n",
            "74 no es multiplo de ninguno\n",
            "FizzBuzz\n",
            "76 no es multiplo de ninguno\n",
            "77 no es multiplo de ninguno\n",
            "Fizz\n",
            "79 no es multiplo de ninguno\n",
            "Buzz\n",
            "Fizz\n",
            "82 no es multiplo de ninguno\n",
            "83 no es multiplo de ninguno\n",
            "Fizz\n",
            "Buzz\n",
            "86 no es multiplo de ninguno\n",
            "Fizz\n",
            "88 no es multiplo de ninguno\n",
            "89 no es multiplo de ninguno\n",
            "FizzBuzz\n",
            "91 no es multiplo de ninguno\n",
            "92 no es multiplo de ninguno\n",
            "Fizz\n",
            "94 no es multiplo de ninguno\n",
            "Buzz\n",
            "Fizz\n",
            "97 no es multiplo de ninguno\n",
            "98 no es multiplo de ninguno\n",
            "Fizz\n",
            "Buzz\n"
          ]
        }
      ],
      "source": [
        "for i in range(1,101):\n",
        "  if i % 3 == 0 and i % 5 ==0:\n",
        "    print('FizzBuzz')\n",
        "  elif i % 3==0:\n",
        "    print('Fizz')\n",
        "  elif i % 5==0:\n",
        "    print('Buzz')\n",
        "  else:\n",
        "    print(f'{i} no es multiplo de ninguno')\n",
        "\n",
        "\n",
        "\n",
        "  # 3%3=0\n",
        "  # 5%5=0\n",
        "  # 3,5\n"
      ]
    },
    {
      "cell_type": "code",
      "source": [
        "# valor agregado\n",
        "# Solicitar al usuario un número y que diga si es multiplo de 3, 5 o de ambos\n",
        "\n",
        "numero=int(input('Ingrese su número: '))\n",
        "\n",
        "\n",
        "if numero % 3 == 0 and numero % 5 ==0:\n",
        "  print(f'{numero} es multiplo de 3 y de 5')\n",
        "elif numero % 3==0:\n",
        "  print(f'{numero} es multiplo de 3')\n",
        "elif numero % 5==0:\n",
        "  print(f'{numero} es multiplo de 5')\n",
        "else:\n",
        "  print(f'{numero} no es multiplo de ninguno')"
      ],
      "metadata": {
        "colab": {
          "base_uri": "https://localhost:8080/"
        },
        "id": "EcUG8z9bfBgs",
        "outputId": "147fb274-a7cc-4e96-8674-edeabc6ff1c2"
      },
      "id": "EcUG8z9bfBgs",
      "execution_count": 27,
      "outputs": [
        {
          "output_type": "stream",
          "name": "stdout",
          "text": [
            "Ingrese su número: 11\n",
            "11 no es multiplo de ninguno\n"
          ]
        }
      ]
    },
    {
      "cell_type": "markdown",
      "id": "b00c70f3",
      "metadata": {
        "id": "b00c70f3"
      },
      "source": [
        "### 6. Proyecto Final: Sistema de Inventario\n",
        "\n",
        "Escribe un programa que gestione un inventario utilizando un diccionario. El programa debe:\n",
        "1. Permitir agregar productos con su cantidad.\n",
        "2. Actualizar la cantidad de un producto existente.\n",
        "3. Eliminar un producto del inventario.\n",
        "4. Mostrar todos los productos y sus cantidades.\n",
        "5. Salir del programa.\n",
        "\n",
        "El programa debe mostrar un menú interactivo para que el usuario seleccione una opción.\n",
        "\n",
        "**Espacio para tu código:**"
      ]
    },
    {
      "cell_type": "code",
      "execution_count": 35,
      "id": "298f2a53",
      "metadata": {
        "id": "298f2a53",
        "colab": {
          "base_uri": "https://localhost:8080/"
        },
        "outputId": "757823e1-4fa4-47be-a32c-b18e93ce0c42"
      },
      "outputs": [
        {
          "output_type": "stream",
          "name": "stdout",
          "text": [
            "1. Permitir agregar productos con su cantidad\n",
            "2. Actualizar la cantidad de un producto existente.\n",
            "3. Eliminar un producto del inventario.\n",
            "4. Mostrar todos los productos y sus cantidades.\n",
            "5. Salir del programa.\n",
            "Elige una opción: 1\n",
            "Dime el producto que quieres agregar: arroz\n",
            "Dime la cantidad del producto que quieres agregar: 5\n",
            "1. Permitir agregar productos con su cantidad\n",
            "2. Actualizar la cantidad de un producto existente.\n",
            "3. Eliminar un producto del inventario.\n",
            "4. Mostrar todos los productos y sus cantidades.\n",
            "5. Salir del programa.\n",
            "Elige una opción: 1\n",
            "Dime el producto que quieres agregar: tomate\n",
            "Dime la cantidad del producto que quieres agregar: 5\n",
            "1. Permitir agregar productos con su cantidad\n",
            "2. Actualizar la cantidad de un producto existente.\n",
            "3. Eliminar un producto del inventario.\n",
            "4. Mostrar todos los productos y sus cantidades.\n",
            "5. Salir del programa.\n",
            "Elige una opción: 4\n",
            "{'arroz': '5', 'tomate': '5'}\n",
            "1. Permitir agregar productos con su cantidad\n",
            "2. Actualizar la cantidad de un producto existente.\n",
            "3. Eliminar un producto del inventario.\n",
            "4. Mostrar todos los productos y sus cantidades.\n",
            "5. Salir del programa.\n",
            "Elige una opción: 2\n",
            "Dime el producto que quieres agregar: tomate\n",
            "Dime la cantidad del producto que quieres agregar: 25\n",
            "1. Permitir agregar productos con su cantidad\n",
            "2. Actualizar la cantidad de un producto existente.\n",
            "3. Eliminar un producto del inventario.\n",
            "4. Mostrar todos los productos y sus cantidades.\n",
            "5. Salir del programa.\n",
            "Elige una opción: 4\n",
            "{'arroz': '5', 'tomate': '25'}\n",
            "1. Permitir agregar productos con su cantidad\n",
            "2. Actualizar la cantidad de un producto existente.\n",
            "3. Eliminar un producto del inventario.\n",
            "4. Mostrar todos los productos y sus cantidades.\n",
            "5. Salir del programa.\n",
            "Elige una opción: 3\n",
            "Dime el producto que quieres Eliminar: arroz\n",
            "1. Permitir agregar productos con su cantidad\n",
            "2. Actualizar la cantidad de un producto existente.\n",
            "3. Eliminar un producto del inventario.\n",
            "4. Mostrar todos los productos y sus cantidades.\n",
            "5. Salir del programa.\n",
            "Elige una opción: 4\n",
            "{'tomate': '25'}\n",
            "1. Permitir agregar productos con su cantidad\n",
            "2. Actualizar la cantidad de un producto existente.\n",
            "3. Eliminar un producto del inventario.\n",
            "4. Mostrar todos los productos y sus cantidades.\n",
            "5. Salir del programa.\n",
            "Elige una opción: 5\n",
            "Oprimiste 5, Hasta pronto\n"
          ]
        }
      ],
      "source": [
        "inventario={}\n",
        "try:\n",
        "  while(True):\n",
        "    print('1. Permitir agregar productos con su cantidad')\n",
        "    print('2. Actualizar la cantidad de un producto existente.')\n",
        "    print('3. Eliminar un producto del inventario.')\n",
        "    print('4. Mostrar todos los productos y sus cantidades.')\n",
        "    print('5. Salir del programa.')\n",
        "    opcion=int(input('Elige una opción: '))\n",
        "\n",
        "    if opcion==1:\n",
        "      producto=input('Dime el producto que quieres agregar: ')\n",
        "      cantidad=(input('Dime la cantidad del producto que quieres agregar: '))\n",
        "      inventario[producto]=cantidad\n",
        "    elif opcion==2:\n",
        "      Actualizar_producto=input('Dime el producto que quieres agregar: ')\n",
        "      if Actualizar_producto in inventario:\n",
        "        Actualizar_cantidad=(input('Dime la cantidad del producto que quieres agregar: '))\n",
        "        inventario[Actualizar_producto]=Actualizar_cantidad\n",
        "      else:\n",
        "        print('El producto no esta registrado, tienes que crearlo primero en la opción uno')\n",
        "    elif opcion==3:\n",
        "      eliminar_producto=input('Dime el producto que quieres Eliminar: ')\n",
        "      if eliminar_producto in inventario:\n",
        "        del inventario[eliminar_producto]\n",
        "      else:\n",
        "        print('El producto no esta registrado, tienes que crearlo primero en la opción uno')\n",
        "    elif opcion==4:\n",
        "      print(inventario)\n",
        "    elif opcion==5:\n",
        "      print('Oprimiste 5, Hasta pronto')\n",
        "      break\n",
        "    else:\n",
        "      print('Pon una opción valida')\n",
        "except Exception as e:\n",
        "  print(f\"Upss, tienes un error: {e}\")"
      ]
    }
  ],
  "metadata": {
    "colab": {
      "provenance": [],
      "include_colab_link": true
    },
    "language_info": {
      "name": "python"
    },
    "kernelspec": {
      "name": "python3",
      "display_name": "Python 3"
    }
  },
  "nbformat": 4,
  "nbformat_minor": 5
}
